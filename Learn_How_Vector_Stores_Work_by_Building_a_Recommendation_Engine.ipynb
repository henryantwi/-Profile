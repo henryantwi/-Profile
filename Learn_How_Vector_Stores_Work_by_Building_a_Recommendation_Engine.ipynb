{
  "nbformat": 4,
  "nbformat_minor": 0,
  "metadata": {
    "colab": {
      "provenance": [],
      "toc_visible": true,
      "include_colab_link": true
    },
    "kernelspec": {
      "name": "python3",
      "display_name": "Python 3"
    },
    "language_info": {
      "name": "python"
    }
  },
  "cells": [
    {
      "cell_type": "markdown",
      "metadata": {
        "id": "view-in-github",
        "colab_type": "text"
      },
      "source": [
        "<a href=\"https://colab.research.google.com/github/henryantwi/-Profile/blob/main/Learn_How_Vector_Stores_Work_by_Building_a_Recommendation_Engine.ipynb\" target=\"_parent\"><img src=\"https://colab.research.google.com/assets/colab-badge.svg\" alt=\"Open In Colab\"/></a>"
      ]
    },
    {
      "cell_type": "markdown",
      "source": [
        "# Learn How Vector Stores Work by Building a Recommendation Engine\n",
        "\n",
        "This tutorial provides a fundamental demonstration of how vector databases operate.\n",
        "\n",
        "In this example, we will define various parameters, or dimensions, for food critiquing. The engine will then suggest dishes to the user based on these parameters, aligned with their preferences. For vector storage and management, we will utilize Upstash Vector.\n",
        "\n",
        "Outline:\n",
        "\n",
        "1- Create an index on Upstash Vector and install the required\n",
        "dependencies.\n",
        "\n",
        "2- Define dimensions for food critiqueing.\n",
        "\n",
        "3- Insert data.\n",
        "\n",
        "4- Create query by asking preferences to user.\n",
        "\n",
        "5- Show recommended dishes by querying the vector database.\n",
        "\n",
        "Let's start!"
      ],
      "metadata": {
        "id": "KyERnbWYxtW6"
      }
    },
    {
      "cell_type": "markdown",
      "source": [
        "\n",
        "\n",
        "```\n",
        "# This is formatted as code\n",
        "```\n",
        "\n",
        "## Create Index\n",
        "Head out to [Upstash Console](https://console.upstash.com) to create an Index with 24 dimensions under Vector tab.\n",
        "\n",
        "Copy the `UPSTASH_VECTOR_REST_URL` and `UPSTASH_VECTOR_REST_TOKEN` values for the next step."
      ],
      "metadata": {
        "id": "4S8UU_BLoUhe"
      }
    },
    {
      "cell_type": "code",
      "source": [
        "UPSTASH_VECTOR_REST_URL=\"URL\"\n",
        "UPSTASH_VECTOR_REST_TOKEN=\"TOKEN\""
      ],
      "metadata": {
        "id": "8rafxcVf7xSN"
      },
      "execution_count": null,
      "outputs": []
    },
    {
      "cell_type": "markdown",
      "source": [
        "## Install `upstash_vector` Python SDK and initialize your client."
      ],
      "metadata": {
        "id": "-RSZ805OoosC"
      }
    },
    {
      "cell_type": "code",
      "source": [
        "%pip install upstash_vector -q"
      ],
      "metadata": {
        "id": "vX9ray2S8Hhv",
        "colab": {
          "base_uri": "https://localhost:8080/"
        },
        "outputId": "9aec8f99-7e94-4cb5-a50c-7cb90d2a30b3"
      },
      "execution_count": null,
      "outputs": [
        {
          "output_type": "stream",
          "name": "stdout",
          "text": [
            "\u001b[?25l     \u001b[90m━━━━━━━━━━━━━━━━━━━━━━━━━━━━━━━━━━━━━━━━\u001b[0m \u001b[32m0.0/75.0 kB\u001b[0m \u001b[31m?\u001b[0m eta \u001b[36m-:--:--\u001b[0m\r\u001b[2K     \u001b[90m━━━━━━━━━━━━━━━━━━━━━━━━━━━━━━━━━━━━━━━━\u001b[0m \u001b[32m75.0/75.0 kB\u001b[0m \u001b[31m2.5 MB/s\u001b[0m eta \u001b[36m0:00:00\u001b[0m\n",
            "\u001b[?25h\u001b[?25l     \u001b[90m━━━━━━━━━━━━━━━━━━━━━━━━━━━━━━━━━━━━━━━━\u001b[0m \u001b[32m0.0/76.9 kB\u001b[0m \u001b[31m?\u001b[0m eta \u001b[36m-:--:--\u001b[0m\r\u001b[2K     \u001b[90m━━━━━━━━━━━━━━━━━━━━━━━━━━━━━━━━━━━━━━━━\u001b[0m \u001b[32m76.9/76.9 kB\u001b[0m \u001b[31m6.6 MB/s\u001b[0m eta \u001b[36m0:00:00\u001b[0m\n",
            "\u001b[?25h\u001b[?25l     \u001b[90m━━━━━━━━━━━━━━━━━━━━━━━━━━━━━━━━━━━━━━━━\u001b[0m \u001b[32m0.0/58.3 kB\u001b[0m \u001b[31m?\u001b[0m eta \u001b[36m-:--:--\u001b[0m\r\u001b[2K     \u001b[90m━━━━━━━━━━━━━━━━━━━━━━━━━━━━━━━━━━━━━━━━\u001b[0m \u001b[32m58.3/58.3 kB\u001b[0m \u001b[31m6.8 MB/s\u001b[0m eta \u001b[36m0:00:00\u001b[0m\n",
            "\u001b[?25h"
          ]
        }
      ]
    },
    {
      "cell_type": "markdown",
      "source": [
        "Paste UPSTASH_VECTOR_REST_URL and UPSTASH_VECTOR_REST_TOKEN below."
      ],
      "metadata": {
        "id": "w2bMB67_0Egb"
      }
    },
    {
      "cell_type": "code",
      "source": [
        "from upstash_vector import Index\n",
        "\n",
        "index = Index(UPSTASH_VECTOR_REST_URL, UPSTASH_VECTOR_REST_TOKEN)\n",
        "index.reset() # Remove all vectors in the index\n",
        "index.info()"
      ],
      "metadata": {
        "id": "47jF9dHz1fQg"
      },
      "execution_count": null,
      "outputs": []
    },
    {
      "cell_type": "markdown",
      "source": [
        "# Define dimensions for food critiqueing\n",
        "\n",
        "Now, instead of using an embedding an already existing text, image or a sound sample with a predefined dimension count, we will define our own dimensions for our vectors.\n",
        "\n",
        "Here, we can define our dimensions for critiqueing the food. In this example, following 24 dimensions are defined:\n"
      ],
      "metadata": {
        "id": "oLSEsn6JnA1Y"
      }
    },
    {
      "cell_type": "code",
      "source": [
        "food_dimensions = [\"sweetness\", \"saltiness\", \"sourness\", \"bitterness\", \"umami\" ,\"crispiness\" , \"tenderness\", \"creaminess\", \"chewiness\", \"fragrance\", \"intensity\", \"visual_appeal\", \"plating\", \"temperature\", \"creaminess_mouthfeel\", \"spiciness_mouthfeel\", \"astringency_mouthfeel\", \"layering_complexity\", \"contrast_complexity\", \"quality_of_ingredients_freshness\", \"cooking_method_technique\", \"seasoning_technique\", \"creativity_originality\", \"innovation_originality\"]\n",
        "print(f\"Following {len(food_dimensions)} dimensions are defined for rating food in different aspects: {food_dimensions}\")"
      ],
      "metadata": {
        "colab": {
          "base_uri": "https://localhost:8080/"
        },
        "id": "87B7-K2insZT",
        "outputId": "81409d56-f705-4a16-eea6-36b71168df20"
      },
      "execution_count": null,
      "outputs": [
        {
          "output_type": "stream",
          "name": "stdout",
          "text": [
            "Following 24 dimensions are defined for rating food in different aspects: ['sweetness', 'saltiness', 'sourness', 'bitterness', 'umami', 'crispiness', 'tenderness', 'creaminess', 'chewiness', 'fragrance', 'intensity', 'visual_appeal', 'plating', 'temperature', 'creaminess_mouthfeel', 'spiciness_mouthfeel', 'astringency_mouthfeel', 'layering_complexity', 'contrast_complexity', 'quality_of_ingredients_freshness', 'cooking_method_technique', 'seasoning_technique', 'creativity_originality', 'innovation_originality']\n"
          ]
        }
      ]
    },
    {
      "cell_type": "markdown",
      "source": [
        "## Define some helper functions for normalizing\n",
        "\n",
        "We want to normalize our vector values since sum of all those dimensions might not add upto the same value for different dishes in our existing database. This way, we can keep the ratio between different aspects of the dish."
      ],
      "metadata": {
        "id": "7cfqdbDjnr5V"
      }
    },
    {
      "cell_type": "code",
      "source": [
        "def highest_element(vector):\n",
        "  highest_score = 0\n",
        "  for element in vector:\n",
        "    if element > highest_score:\n",
        "      highest_score = element\n",
        "\n",
        "  return highest_score\n",
        "\n",
        "def vector_to_normalized_vector(vector):\n",
        "  division_factor = highest_element(vector)\n",
        "  return [x/division_factor for x in vector]\n",
        "\n",
        "\n",
        "def dish_to_normalized_vector(id, name, origin, cuisine, description,\n",
        "                 sweetness, saltiness, sourness, bitterness, umami,\n",
        "                 crispiness, tenderness, creaminess, chewiness,\n",
        "                 fragrance, intensity,\n",
        "                 visual_appeal, plating,\n",
        "                 temperature,\n",
        "                 creaminess_mouthfeel, spiciness_mouthfeel, astringency_mouthfeel,\n",
        "                 layering_complexity, contrast_complexity,\n",
        "                 quality_of_ingredients_freshness,\n",
        "                 cooking_method_technique, seasoning_technique,\n",
        "                 creativity_originality, innovation_originality):\n",
        "\n",
        "\n",
        "  metadata = {\"origin\": origin, \"cuisine\": cuisine, \"description\": description, \"name\": name}\n",
        "  vector = [sweetness, saltiness, sourness, bitterness, umami,\n",
        "                 crispiness, tenderness, creaminess, chewiness,\n",
        "                 fragrance, intensity,\n",
        "                 visual_appeal, plating,\n",
        "                 temperature,\n",
        "                 creaminess_mouthfeel, spiciness_mouthfeel, astringency_mouthfeel,\n",
        "                 layering_complexity, contrast_complexity,\n",
        "                 quality_of_ingredients_freshness,\n",
        "                 cooking_method_technique, seasoning_technique,\n",
        "                 creativity_originality, innovation_originality\n",
        "            ]\n",
        "  vector = vector_to_normalized_vector(vector)\n",
        "\n",
        "  return (id, vector, metadata)"
      ],
      "metadata": {
        "id": "JDzQZX7D0rMM"
      },
      "execution_count": null,
      "outputs": []
    },
    {
      "cell_type": "markdown",
      "source": [
        "## Example Insertions\n",
        "We will insert 2 example dishes to solidify the use case.\n",
        "\n",
        "As you can see, the sum of the parameters do not add up to th same value, however by normalizing them, we keep our database available for queries without worrying about the exact values for ratings."
      ],
      "metadata": {
        "id": "OG9hTHKTqpjy"
      }
    },
    {
      "cell_type": "code",
      "source": [
        "dish1_vector = dish_to_normalized_vector(\n",
        "    \"custom-dish-0\",\n",
        "    name=\"Grilled Salmon with Lemon Herb Butter Sauce\",\n",
        "    origin=\"North America\",\n",
        "    cuisine=\"American\",\n",
        "    description=\"A classic dish featuring grilled salmon with a flavorful lemon herb butter sauce.\",\n",
        "    sweetness=5, saltiness=10, sourness=6, bitterness=3, umami=12,\n",
        "    crispiness=8, tenderness=10, creaminess=6, chewiness=2,\n",
        "    fragrance=10, intensity=8,\n",
        "    visual_appeal=12, plating=10,\n",
        "    temperature=12,\n",
        "    creaminess_mouthfeel=6, spiciness_mouthfeel=2, astringency_mouthfeel=2,\n",
        "    layering_complexity=8, contrast_complexity=9,\n",
        "    quality_of_ingredients_freshness=10,\n",
        "    cooking_method_technique=12, seasoning_technique=10,\n",
        "    creativity_originality=8, innovation_originality=7\n",
        ")\n",
        "\n",
        "dish2_vector = dish_to_normalized_vector(\n",
        "    \"custom-dish-1\",\n",
        "    name=\"Vegetarian Stir-Fried Tofu with Mixed Vegetables\",\n",
        "    origin=\"Asia\",\n",
        "    cuisine=\"Asian\",\n",
        "    description=\"A delightful vegetarian stir-fry featuring tofu and a medley of mixed vegetables.\",\n",
        "    sweetness=7, saltiness=8, sourness=9, bitterness=4, umami=10,\n",
        "    crispiness=8, tenderness=10, creaminess=8, chewiness=6,\n",
        "    fragrance=8, intensity=7,\n",
        "    visual_appeal=8, plating=7,\n",
        "    temperature=9,\n",
        "    creaminess_mouthfeel=8, spiciness_mouthfeel=5, astringency_mouthfeel=4,\n",
        "    layering_complexity=6, contrast_complexity=7,\n",
        "    quality_of_ingredients_freshness=8,\n",
        "    cooking_method_technique=8, seasoning_technique=8,\n",
        "    creativity_originality=8, innovation_originality=7\n",
        ")\n",
        "\n",
        "# Printing the vectors\n",
        "print(\"Custom Dish 1 Normalized Vector:\")\n",
        "print(dish1_vector)\n",
        "print()\n",
        "print(\"Custom Dish 2 Normalized Vector:\")\n",
        "print(dish2_vector)\n"
      ],
      "metadata": {
        "colab": {
          "base_uri": "https://localhost:8080/"
        },
        "id": "CqeHXDD70mEG",
        "outputId": "601dd917-606b-49c1-e68a-d3adaf05577b"
      },
      "execution_count": null,
      "outputs": [
        {
          "output_type": "stream",
          "name": "stdout",
          "text": [
            "Custom Dish 1 Normalized Vector:\n",
            "('custom-dish-0', [0.4166666666666667, 0.8333333333333334, 0.5, 0.25, 1.0, 0.6666666666666666, 0.8333333333333334, 0.5, 0.16666666666666666, 0.8333333333333334, 0.6666666666666666, 1.0, 0.8333333333333334, 1.0, 0.5, 0.16666666666666666, 0.16666666666666666, 0.6666666666666666, 0.75, 0.8333333333333334, 1.0, 0.8333333333333334, 0.6666666666666666, 0.5833333333333334], {'origin': 'North America', 'cuisine': 'American', 'description': 'A classic dish featuring grilled salmon with a flavorful lemon herb butter sauce.', 'name': 'Grilled Salmon with Lemon Herb Butter Sauce'})\n",
            "\n",
            "Custom Dish 2 Normalized Vector:\n",
            "('custom-dish-1', [0.7, 0.8, 0.9, 0.4, 1.0, 0.8, 1.0, 0.8, 0.6, 0.8, 0.7, 0.8, 0.7, 0.9, 0.8, 0.5, 0.4, 0.6, 0.7, 0.8, 0.8, 0.8, 0.8, 0.7], {'origin': 'Asia', 'cuisine': 'Asian', 'description': 'A delightful vegetarian stir-fry featuring tofu and a medley of mixed vegetables.', 'name': 'Vegetarian Stir-Fried Tofu with Mixed Vegetables'})\n"
          ]
        }
      ]
    },
    {
      "cell_type": "markdown",
      "source": [
        "## Upsert and Fetch"
      ],
      "metadata": {
        "id": "xbV-uJQnrPnU"
      }
    },
    {
      "cell_type": "code",
      "source": [
        "# Upsert the food vectors\n",
        "index.upsert([dish1_vector, dish2_vector])"
      ],
      "metadata": {
        "colab": {
          "base_uri": "https://localhost:8080/",
          "height": 35
        },
        "id": "Drxlj7Et7m5T",
        "outputId": "1b3f4ba9-7828-4f42-fcd0-a5e5885d51a6"
      },
      "execution_count": null,
      "outputs": [
        {
          "output_type": "execute_result",
          "data": {
            "text/plain": [
              "'Success'"
            ],
            "application/vnd.google.colaboratory.intrinsic+json": {
              "type": "string"
            }
          },
          "metadata": {},
          "execution_count": 14
        }
      ]
    },
    {
      "cell_type": "code",
      "source": [
        "index.fetch(\"custom-dish-1\", include_metadata=True)"
      ],
      "metadata": {
        "colab": {
          "base_uri": "https://localhost:8080/"
        },
        "id": "6wTOuD-b8re_",
        "outputId": "b449edfc-ef3a-4bd4-e09e-07e959000d21"
      },
      "execution_count": null,
      "outputs": [
        {
          "output_type": "execute_result",
          "data": {
            "text/plain": [
              "[FetchResult(id='custom-dish-1', vector=None, metadata={'origin': 'Asia', 'cuisine': 'Vegetarian', 'description': 'A delightful vegetarian stir-fry featuring tofu and a medley of mixed vegetables.', 'name': 'Vegetarian Stir-Fried Tofu with Mixed Vegetables'})]"
            ]
          },
          "metadata": {},
          "execution_count": 201
        }
      ]
    },
    {
      "cell_type": "markdown",
      "source": [
        "## Asking Customer for the Preferences and Printing"
      ],
      "metadata": {
        "id": "2VrwqaUTrgFr"
      }
    },
    {
      "cell_type": "code",
      "source": [
        "def get_customer_preferences():\n",
        "\n",
        "  customer_preferences = []\n",
        "\n",
        "  limit = 120\n",
        "  print(f\"We will ask you to rate the importance of the following criteria for the food you want to select: {food_dimensions}\")\n",
        "  print(f\"Your total points cannot exceed {limit}\")\n",
        "  for dimension in food_dimensions:\n",
        "    dimension_value = input(f\"(Remaining points {limit}) {dimension}: \")\n",
        "\n",
        "    try:\n",
        "      dimension_value = float(dimension_value)\n",
        "    except Exception:\n",
        "      print(\"Value was not successfully parsed. Using 0 instead.\")\n",
        "      customer_preferences.append(0)\n",
        "      continue\n",
        "\n",
        "    if limit < dimension_value or dimension_value < 0:\n",
        "      print(\"value cannot be higher than remaining limit or negative. Using 0 instead.\")\n",
        "      customer_preferences.append(0)\n",
        "      continue\n",
        "\n",
        "    customer_preferences.append(dimension_value)\n",
        "    limit -= dimension_value\n",
        "\n",
        "  return customer_preferences\n",
        "\n",
        "def print_recommended_dishes(dishes):\n",
        "  print(\"Here are the recommended dishes for your taste:\\n\")\n",
        "  for dish in suggested_dishes:\n",
        "    print(f\"Match: {dish.metadata['name']}\")\n",
        "    print(f\"Match Score: {dish.score}\")\n",
        "    print(f\"Origin: {dish.metadata['origin']}\")\n",
        "    print(f\"Cuisine: {dish.metadata['cuisine']}\")\n",
        "    print(f\"Description: {dish.metadata['description']}\")\n",
        "    print()\n",
        "\n"
      ],
      "metadata": {
        "id": "RJ0xVcEW9cHu"
      },
      "execution_count": null,
      "outputs": []
    },
    {
      "cell_type": "markdown",
      "source": [
        "## Get Recommended Dishes for Customer Preferences"
      ],
      "metadata": {
        "id": "oNHRMbl5r0AW"
      }
    },
    {
      "cell_type": "code",
      "source": [
        "customer_preferences = get_customer_preferences()"
      ],
      "metadata": {
        "colab": {
          "base_uri": "https://localhost:8080/"
        },
        "id": "jd1ft9TZuV3m",
        "outputId": "e4aef744-d94e-4061-8e3c-6ef0df5065e4"
      },
      "execution_count": null,
      "outputs": [
        {
          "output_type": "stream",
          "name": "stdout",
          "text": [
            "We will ask you to rate the importance of the following criteria for the food you want to select: ['sweetness', 'saltiness', 'sourness', 'bitterness', 'umami', 'crispiness', 'tenderness', 'creaminess', 'chewiness', 'fragrance', 'intensity', 'visual_appeal', 'plating', 'temperature', 'creaminess_mouthfeel', 'spiciness_mouthfeel', 'astringency_mouthfeel', 'layering_complexity', 'contrast_complexity', 'quality_of_ingredients_freshness', 'cooking_method_technique', 'seasoning_technique', 'creativity_originality', 'innovation_originality']\n",
            "Your total points cannot exceed 120\n",
            "(Remaining points 120) sweetness: 10\n",
            "(Remaining points 110.0) saltiness: 20\n",
            "(Remaining points 90.0) sourness: 10\n",
            "(Remaining points 80.0) bitterness: 10\n",
            "(Remaining points 70.0) umami: 5\n",
            "(Remaining points 65.0) crispiness: 5\n",
            "(Remaining points 60.0) tenderness: 10\n",
            "(Remaining points 50.0) creaminess: 1\n",
            "(Remaining points 49.0) chewiness: 1\n",
            "(Remaining points 48.0) fragrance: 10\n",
            "(Remaining points 38.0) intensity: 10\n",
            "(Remaining points 28.0) visual_appeal: 10\n",
            "(Remaining points 18.0) plating: 10\n",
            "(Remaining points 8.0) temperature: 8\n",
            "(Remaining points 0.0) creaminess_mouthfeel: \n",
            "Value was not successfully parsed. Using 0 instead.\n",
            "(Remaining points 0.0) spiciness_mouthfeel: \n",
            "Value was not successfully parsed. Using 0 instead.\n",
            "(Remaining points 0.0) astringency_mouthfeel: \n",
            "Value was not successfully parsed. Using 0 instead.\n",
            "(Remaining points 0.0) layering_complexity: \n",
            "Value was not successfully parsed. Using 0 instead.\n",
            "(Remaining points 0.0) contrast_complexity: \n",
            "Value was not successfully parsed. Using 0 instead.\n",
            "(Remaining points 0.0) quality_of_ingredients_freshness: \n",
            "Value was not successfully parsed. Using 0 instead.\n",
            "(Remaining points 0.0) cooking_method_technique: \n",
            "Value was not successfully parsed. Using 0 instead.\n",
            "(Remaining points 0.0) seasoning_technique: \n",
            "Value was not successfully parsed. Using 0 instead.\n",
            "(Remaining points 0.0) creativity_originality: \n",
            "Value was not successfully parsed. Using 0 instead.\n",
            "(Remaining points 0.0) innovation_originality: \n",
            "Value was not successfully parsed. Using 0 instead.\n"
          ]
        }
      ]
    },
    {
      "cell_type": "markdown",
      "source": [
        "#### Normalize Customer Preferences for Ease of Querying"
      ],
      "metadata": {
        "id": "gFdhFmg6r-dR"
      }
    },
    {
      "cell_type": "code",
      "source": [
        "customer_preferences_normalized = vector_to_normalized_vector(customer_preferences)"
      ],
      "metadata": {
        "id": "01axT1cjr9E3"
      },
      "execution_count": null,
      "outputs": []
    },
    {
      "cell_type": "markdown",
      "source": [
        "### Define Parameter for Querying\n",
        "\n"
      ],
      "metadata": {
        "id": "nZ4XWiumsC8G"
      }
    },
    {
      "cell_type": "code",
      "source": [
        "top_k = 1 # How many recommendations there will be"
      ],
      "metadata": {
        "id": "0JdeVR8csLtv"
      },
      "execution_count": null,
      "outputs": []
    },
    {
      "cell_type": "code",
      "source": [
        "suggested_dishes = index.query(customer_preferences_normalized, top_k=top_k, include_metadata=True)"
      ],
      "metadata": {
        "id": "UFryzvZ5CaS3"
      },
      "execution_count": null,
      "outputs": []
    },
    {
      "cell_type": "code",
      "source": [
        "print_recommended_dishes(suggested_dishes)"
      ],
      "metadata": {
        "id": "3w-7mO6fCtc8",
        "colab": {
          "base_uri": "https://localhost:8080/"
        },
        "outputId": "638f19dc-7229-4d28-8117-702e9dbe836c"
      },
      "execution_count": null,
      "outputs": [
        {
          "output_type": "stream",
          "name": "stdout",
          "text": [
            "Here are the recommended dishes for your taste:\n",
            "\n",
            "Match: Vegetarian Stir-Fried Tofu with Mixed Vegetables\n",
            "Match Score: 0.8477832\n",
            "Origin: Asia\n",
            "Cuisine: Asian\n",
            "Description: A delightful vegetarian stir-fry featuring tofu and a medley of mixed vegetables.\n",
            "\n"
          ]
        }
      ]
    },
    {
      "cell_type": "markdown",
      "source": [
        "## Define More Dishes\n",
        "\n",
        "Here, we can generate some more dishes so that our query pool will be larger.\n",
        "\n",
        "For the vector values, we will auto-generate some float numbers. In real life scenarios, those values may come from customer reviews or from chefs who cook the dishes."
      ],
      "metadata": {
        "id": "2gpdGVjNshx6"
      }
    },
    {
      "cell_type": "code",
      "source": [
        "import random\n",
        "\n",
        "class Dish:\n",
        "    def __init__(self, name, cuisine, origin, description):\n",
        "        self.name = name\n",
        "        self.cuisine = cuisine\n",
        "        self.origin = origin\n",
        "        self.description = description\n",
        "        self.vector = [random.random() for _ in range(24)] # food dimension is 24\n",
        "\n",
        "dishes = [\n",
        "    Dish(name=\"Spaghetti Bolognese\", cuisine=\"Italian\", origin=\"Italy\", description=\"Classic Italian pasta dish with a rich meat sauce.\"),\n",
        "    Dish(name=\"Chicken Alfredo Pasta\", cuisine=\"Italian\", origin=\"Italy\", description=\"Creamy Alfredo pasta with grilled chicken, perfect for pasta lovers.\"),\n",
        "    Dish(name=\"Margherita Pizza\", cuisine=\"Italian\", origin=\"Italy\", description=\"A timeless pizza topped with fresh tomatoes, mozzarella, and basil.\"),\n",
        "    Dish(name=\"Beef Tacos\", cuisine=\"Mexican\", origin=\"Mexico\", description=\"Classic beef tacos with seasoned meat, fresh toppings, and salsa.\"),\n",
        "    Dish(name=\"Caesar Salad\", cuisine=\"International\", origin=\"Mexico\", description=\"A classic salad with crisp romaine, parmesan, croutons, and Caesar dressing.\"),\n",
        "    Dish(name=\"Shrimp Scampi\", cuisine=\"Italian\", origin=\"Italy\", description=\"Garlic butter shrimp served over pasta or rice.\"),\n",
        "    Dish(name=\"Grilled Salmon\", cuisine=\"Seafood\", origin=\"International\", description=\"Perfectly grilled salmon seasoned with herbs and served with lemon.\"),\n",
        "    Dish(name=\"Pad Thai\", cuisine=\"Thai\", origin=\"Thailand\", description=\"A flavorful Thai stir-fried noodle dish with shrimp, peanuts, and lime.\"),\n",
        "    Dish(name=\"Caprese Salad\", cuisine=\"Italian\", origin=\"Italy\", description=\"A refreshing salad with tomatoes, fresh mozzarella, basil, and balsamic glaze.\"),\n",
        "    Dish(name=\"Sushi Rolls\", cuisine=\"Japanese\", origin=\"Japan\", description=\"Assorted sushi rolls with fresh fish, rice, and seaweed.\"),\n",
        "    Dish(name=\"Chicken Parmesan\", cuisine=\"Italian\", origin=\"Italy\", description=\"Breaded and fried chicken topped with marinara sauce and melted cheese.\"),\n",
        "    Dish(name=\"BBQ Ribs\", cuisine=\"American\", origin=\"United States\", description=\"Slow-cooked ribs glazed with barbecue sauce for a smoky flavor.\"),\n",
        "    Dish(name=\"Vegetable Stir-Fry\", cuisine=\"Asian\", origin=\"Various\", description=\"Colorful mix of vegetables stir-fried in a savory sauce.\"),\n",
        "    Dish(name=\"Lobster Bisque\", cuisine=\"French\", origin=\"France\", description=\"Creamy soup with rich lobster flavor, often served as a luxurious appetizer.\"),\n",
        "    Dish(name=\"Fettuccine Alfredo\", cuisine=\"Italian\", origin=\"Italy\", description=\"Fettuccine pasta in a creamy Alfredo sauce made with butter and parmesan.\"),\n",
        "    Dish(name=\"Tandoori Chicken\", cuisine=\"Indian\", origin=\"India\", description=\"Chicken marinated in yogurt and spices, cooked in a tandoor for a smoky flavor.\"),\n",
        "    Dish(name=\"Chicken Noodle Soup\", cuisine=\"American\", origin=\"United States\", description=\"Comforting soup with chicken, noodles, and vegetables.\"),\n",
        "    Dish(name=\"Greek Salad\", cuisine=\"Greek\", origin=\"Greece\", description=\"Fresh salad with tomatoes, cucumbers, olives, feta cheese, and Greek dressing.\"),\n",
        "    Dish(name=\"Fish and Chips\", cuisine=\"British\", origin=\"United Kingdom\", description=\"Fried fish fillets served with crispy fries, a popular pub dish.\"),\n",
        "    Dish(name=\"Pulled Pork Sandwich\", cuisine=\"American\", origin=\"United States\", description=\"Slow-cooked pulled pork piled on a bun, often topped with coleslaw.\"),\n",
        "    Dish(name=\"Mushroom Risotto\", cuisine=\"Italian\", origin=\"Italy\", description=\"Creamy risotto cooked with mushrooms, onions, and Arborio rice.\"),\n",
        "    Dish(name=\"Chicken Teriyaki\", cuisine=\"Japanese\", origin=\"Japan\", description=\"Grilled chicken glazed with a sweet and savory teriyaki sauce.\"),\n",
        "    Dish(name=\"Eggplant Parmesan\", cuisine=\"Italian\", origin=\"Italy\", description=\"Breaded and baked eggplant slices topped with marinara sauce and melted cheese.\"),\n",
        "    Dish(name=\"Clam Chowder\", cuisine=\"American\", origin=\"United States\", description=\"Creamy soup with clams, potatoes, onions, and bacon.\"),\n",
        "    Dish(name=\"Chicken Caesar Wrap\", cuisine=\"American\", origin=\"United States\", description=\"Caesar salad with grilled chicken wrapped in a tortilla.\"),\n",
        "    Dish(name=\"Pesto Pasta\", cuisine=\"Italian\", origin=\"Italy\", description=\"Pasta tossed in a vibrant pesto sauce made with basil, garlic, pine nuts, and Parmesan.\"),\n",
        "    Dish(name=\"Beef Stroganoff\", cuisine=\"Russian\", origin=\"Russia\", description=\"Sliced beef in a creamy mushroom sauce, typically served over egg noodles.\"),\n",
        "    Dish(name=\"Lobster Roll\", cuisine=\"American\", origin=\"United States\", description=\"Butter-poached lobster meat served in a split-top bun, often with mayo and lemon.\"),\n",
        "    Dish(name=\"Chicken Shawarma\", cuisine=\"Middle Eastern\", origin=\"Lebanon\", description=\"Marinated and grilled slices of chicken, often served in a flatbread with veggies and tahini.\"),\n",
        "    Dish(name=\"Gyoza (Dumplings)\", cuisine=\"Japanese\", origin=\"Japan\", description=\"Japanese dumplings filled with meat and vegetables, usually pan-fried or steamed.\"),\n",
        "    Dish(name=\"Chicken Quesadilla\", cuisine=\"Mexican\", origin=\"Mexico\", description=\"Grilled tortilla filled with melted cheese and seasoned chicken.\"),\n",
        "    Dish(name=\"Ratatouille\", cuisine=\"French\", origin=\"France\", description=\"Vegetable stew made with eggplant, zucchini, bell peppers, tomatoes, and herbs.\"),\n",
        "    Dish(name=\"Falafel Wrap\", cuisine=\"Middle Eastern\", origin=\"Middle East\", description=\"Deep-fried chickpea patties served in a wrap with veggies and tahini sauce.\"),\n",
        "    Dish(name=\"Beef Bulgogi\", cuisine=\"Korean\", origin=\"South Korea\", description=\"Marinated and grilled slices of beef, often served with rice and vegetables.\"),\n",
        "    Dish(name=\"Margherita Flatbread\", cuisine=\"Italian\", origin=\"Italy\", description=\"Flatbread topped with fresh tomatoes, mozzarella, and basil.\"),\n",
        "    Dish(name=\"Tom Yum Soup\", cuisine=\"Thai\", origin=\"Thailand\", description=\"Spicy and sour Thai soup with shrimp, mushrooms, and lemongrass.\"),\n",
        "    Dish(name=\"Ceviche\", cuisine=\"Peruvian\", origin=\"Peru\", description=\"Citrus-marinated raw fish or seafood, often served with onions, peppers, and cilantro.\"),\n",
        "    Dish(name=\"Chicken Marsala\", cuisine=\"Italian\", origin=\"Italy\", description=\"Chicken cooked in a Marsala wine sauce with mushrooms.\"),\n",
        "    Dish(name=\"Philly Cheesesteak\", cuisine=\"American\", origin=\"United States\", description=\"Sliced beefsteak with melted cheese, often served in a roll.\"),\n",
        "    Dish(name=\"Quinoa Salad\", cuisine=\"International\", origin=\"Various\", description=\"Salad made with quinoa, vegetables, and a flavorful dressing.\"),\n",
        "    Dish(name=\"Baked Ziti\", cuisine=\"Italian\", origin=\"Italy\", description=\"Baked pasta dish with ziti, marinara sauce, and melted cheese.\"),\n",
        "    Dish(name=\"Lobster Mac and Cheese\", cuisine=\"American\", origin=\"United States\", description=\"Macaroni and cheese with chunks of lobster, a decadent comfort food.\"),\n",
        "    Dish(name=\"Miso Soup\", cuisine=\"Japanese\", origin=\"Japan\", description=\"Japanese soup with soybean paste, tofu, seaweed, and green onions.\"),\n",
        "    Dish(name=\"Chicken Fajitas\", cuisine=\"Mexican\", origin=\"Mexico\", description=\"Sizzling grilled chicken with onions and bell peppers, served with tortillas.\"),\n",
        "    Dish(name=\"Vegetable Lasagna\", cuisine=\"Italian\", origin=\"Italy\", description=\"Lasagna made with layers of pasta, ricotta, marinara sauce, and assorted vegetables.\"),\n",
        "    Dish(name=\"Tom Kha Gai\", cuisine=\"Thai\", origin=\"Thailand\", description=\"Thai coconut soup with chicken, mushrooms, and galangal.\"),\n",
        "    Dish(name=\"Chicken Piccata\", cuisine=\"Italian\", origin=\"Italy\", description=\"Chicken sautéed in a lemon and caper sauce.\"),\n",
        "    Dish(name=\"Peking Duck\", cuisine=\"Chinese\", origin=\"China\", description=\"Crispy duck skin served with thin pancakes, hoisin sauce, and sliced scallions.\"),\n",
        "    Dish(name=\"Lobster Thermidor\", cuisine=\"French\", origin=\"France\", description=\"Lobster meat in a creamy brandy-infused sauce, typically served in the lobster shell.\"),\n",
        "    Dish(name=\"Chicken Korma\", cuisine=\"Indian\", origin=\"India\", description=\"Chicken cooked in a rich and creamy cashew and almond sauce.\"),\n",
        "    Dish(name=\"Szechuan Tofu\", cuisine=\"Chinese\", origin=\"China\", description=\"Spicy tofu dish with Szechuan peppercorns and a flavorful sauce.\"),\n",
        "    Dish(name=\"Hawaiian Poke Bowl\", cuisine=\"Hawaiian\", origin=\"Hawaii\", description=\"Raw fish salad served in a bowl with rice, vegetables, and flavorful sauces.\"),\n",
        "    Dish(name=\"Buffalo Chicken Wings\", cuisine=\"American\", origin=\"United States\", description=\"Chicken wings coated in buffalo sauce, often served with celery and blue cheese dressing.\"),\n",
        "    Dish(name=\"Mushroom Swiss Burger\", cuisine=\"American\", origin=\"United States\", description=\"Burger topped with sautéed mushrooms and melted Swiss cheese.\"),\n",
        "    Dish(name=\"Chicken Gyro\", cuisine=\"Greek\", origin=\"Greece\", description=\"Grilled chicken wrapped in a flatbread with tomatoes, onions, and tzatziki sauce.\"),\n",
        "    Dish(name=\"French Onion Soup\", cuisine=\"French\", origin=\"France\", description=\"Soup made with caramelized onions, beef broth, and topped with melted cheese.\"),\n",
        "    Dish(name=\"Beef Wellington\", cuisine=\"British\", origin=\"United Kingdom\", description=\"Beef fillet wrapped in puff pastry and baked to perfection.\"),\n",
        "]"
      ],
      "metadata": {
        "id": "qx-9pZm7eehK"
      },
      "execution_count": null,
      "outputs": []
    },
    {
      "cell_type": "markdown",
      "source": [
        "## Batch Upsert the Dish Vectors"
      ],
      "metadata": {
        "id": "agRRM94StKT7"
      }
    },
    {
      "cell_type": "code",
      "source": [
        "entries = []\n",
        "for i in range(len(dishes)):\n",
        "  dish = dishes[i]\n",
        "  vector_entry = {\"id\": f\"dish-{i}\", \"vector\": dish.vector, \"metadata\": {\"name\": dish.name, \"cuisine\": dish.cuisine, \"origin\": dish.origin, \"description\": dish.description}}\n",
        "  entries.append(vector_entry)\n",
        "\n",
        "index.upsert(entries)"
      ],
      "metadata": {
        "colab": {
          "base_uri": "https://localhost:8080/",
          "height": 35
        },
        "id": "bwVROShegk4A",
        "outputId": "daeeffb2-5f08-4c54-ca18-bc8941708e3e"
      },
      "execution_count": null,
      "outputs": [
        {
          "output_type": "execute_result",
          "data": {
            "text/plain": [
              "'Success'"
            ],
            "application/vnd.google.colaboratory.intrinsic+json": {
              "type": "string"
            }
          },
          "metadata": {},
          "execution_count": 22
        }
      ]
    },
    {
      "cell_type": "markdown",
      "source": [
        "## Query for User Preferences\n",
        "\n",
        "Here, we can increase the recommended dish count, since we have more data."
      ],
      "metadata": {
        "id": "reWsYcLGtUlP"
      }
    },
    {
      "cell_type": "code",
      "source": [
        "top_k = 10"
      ],
      "metadata": {
        "id": "Uj_jjWYouBqF"
      },
      "execution_count": null,
      "outputs": []
    },
    {
      "cell_type": "code",
      "source": [
        "customer_preferences = get_customer_preferences()\n",
        "customer_preferences_normalized = vector_to_normalized_vector(customer_preferences)"
      ],
      "metadata": {
        "colab": {
          "base_uri": "https://localhost:8080/"
        },
        "id": "36aY8hWttU5Y",
        "outputId": "bcb9935c-7967-42dc-b372-2bd41d8697a4"
      },
      "execution_count": null,
      "outputs": [
        {
          "output_type": "stream",
          "name": "stdout",
          "text": [
            "We will ask you to rate the importance of the following criteria for the food you want to select: ['sweetness', 'saltiness', 'sourness', 'bitterness', 'umami', 'crispiness', 'tenderness', 'creaminess', 'chewiness', 'fragrance', 'intensity', 'visual_appeal', 'plating', 'temperature', 'creaminess_mouthfeel', 'spiciness_mouthfeel', 'astringency_mouthfeel', 'layering_complexity', 'contrast_complexity', 'quality_of_ingredients_freshness', 'cooking_method_technique', 'seasoning_technique', 'creativity_originality', 'innovation_originality']\n",
            "Your total points cannot exceed 120\n",
            "(Remaining points 120) sweetness: 10\n",
            "(Remaining points 110.0) saltiness: 10\n",
            "(Remaining points 100.0) sourness: 20\n",
            "(Remaining points 80.0) bitterness: 10\n",
            "(Remaining points 70.0) umami: 10\n",
            "(Remaining points 60.0) crispiness: 40\n",
            "(Remaining points 20.0) tenderness: 20\n",
            "(Remaining points 0.0) creaminess: \n",
            "Value was not successfully parsed. Using 0 instead.\n",
            "(Remaining points 0.0) chewiness: \n",
            "Value was not successfully parsed. Using 0 instead.\n",
            "(Remaining points 0.0) fragrance: \n",
            "Value was not successfully parsed. Using 0 instead.\n",
            "(Remaining points 0.0) intensity: \n",
            "Value was not successfully parsed. Using 0 instead.\n",
            "(Remaining points 0.0) visual_appeal: \n",
            "Value was not successfully parsed. Using 0 instead.\n",
            "(Remaining points 0.0) plating: \n",
            "Value was not successfully parsed. Using 0 instead.\n",
            "(Remaining points 0.0) temperature: \n",
            "Value was not successfully parsed. Using 0 instead.\n",
            "(Remaining points 0.0) creaminess_mouthfeel: \n",
            "Value was not successfully parsed. Using 0 instead.\n",
            "(Remaining points 0.0) spiciness_mouthfeel: \n",
            "Value was not successfully parsed. Using 0 instead.\n",
            "(Remaining points 0.0) astringency_mouthfeel: \n",
            "Value was not successfully parsed. Using 0 instead.\n",
            "(Remaining points 0.0) layering_complexity: \n",
            "Value was not successfully parsed. Using 0 instead.\n",
            "(Remaining points 0.0) contrast_complexity: \n",
            "Value was not successfully parsed. Using 0 instead.\n",
            "(Remaining points 0.0) quality_of_ingredients_freshness: \n",
            "Value was not successfully parsed. Using 0 instead.\n",
            "(Remaining points 0.0) cooking_method_technique: \n",
            "Value was not successfully parsed. Using 0 instead.\n",
            "(Remaining points 0.0) seasoning_technique: \n",
            "Value was not successfully parsed. Using 0 instead.\n",
            "(Remaining points 0.0) creativity_originality: \n",
            "Value was not successfully parsed. Using 0 instead.\n",
            "(Remaining points 0.0) innovation_originality: \n",
            "Value was not successfully parsed. Using 0 instead.\n"
          ]
        }
      ]
    },
    {
      "cell_type": "code",
      "source": [
        "suggested_dishes = index.query(customer_preferences_normalized, top_k=top_k, include_metadata=True)\n",
        "\n",
        "print_recommended_dishes(suggested_dishes)"
      ],
      "metadata": {
        "id": "n56yRYVVhZ-S",
        "colab": {
          "base_uri": "https://localhost:8080/"
        },
        "outputId": "5004a163-4860-4697-db57-4f964cd04429"
      },
      "execution_count": null,
      "outputs": [
        {
          "output_type": "stream",
          "name": "stdout",
          "text": [
            "Here are the recommended dishes for your taste:\n",
            "\n",
            "Match: Vegetarian Stir-Fried Tofu with Mixed Vegetables\n",
            "Match Score: 2.4499998\n",
            "Origin: Asia\n",
            "Cuisine: Vegetarian\n",
            "Description: A delightful vegetarian stir-fry featuring tofu and a medley of mixed vegetables.\n",
            "\n",
            "Match: Spaghetti Bolognese\n",
            "Match Score: 2.3085508\n",
            "Origin: Italy\n",
            "Cuisine: Italian\n",
            "Description: Classic Italian pasta dish with a rich meat sauce.\n",
            "\n",
            "Match: Hawaiian Poke Bowl\n",
            "Match Score: 2.291547\n",
            "Origin: Hawaii\n",
            "Cuisine: Hawaiian\n",
            "Description: Raw fish salad served in a bowl with rice, vegetables, and flavorful sauces.\n",
            "\n",
            "Match: Buffalo Chicken Wings\n",
            "Match Score: 2.1193745\n",
            "Origin: United States\n",
            "Cuisine: American\n",
            "Description: Chicken wings coated in buffalo sauce, often served with celery and blue cheese dressing.\n",
            "\n",
            "Match: Grilled Salmon with Lemon Herb Butter Sauce\n",
            "Match Score: 2.0923915\n",
            "Origin: North America\n",
            "Cuisine: Seafood\n",
            "Description: A classic dish featuring grilled salmon with a flavorful lemon herb butter sauce.\n",
            "\n",
            "Match: Chicken Caesar Wrap\n",
            "Match Score: 2.0891042\n",
            "Origin: United States\n",
            "Cuisine: American\n",
            "Description: Caesar salad with grilled chicken wrapped in a tortilla.\n",
            "\n",
            "Match: Pad Thai\n",
            "Match Score: 2.079525\n",
            "Origin: Thailand\n",
            "Cuisine: Thai\n",
            "Description: A flavorful Thai stir-fried noodle dish with shrimp, peanuts, and lime.\n",
            "\n",
            "Match: Chicken Teriyaki\n",
            "Match Score: 2.0483768\n",
            "Origin: Japan\n",
            "Cuisine: Japanese\n",
            "Description: Grilled chicken glazed with a sweet and savory teriyaki sauce.\n",
            "\n",
            "Match: Mushroom Risotto\n",
            "Match Score: 2.0406651\n",
            "Origin: Italy\n",
            "Cuisine: Italian\n",
            "Description: Creamy risotto cooked with mushrooms, onions, and Arborio rice.\n",
            "\n",
            "Match: Lobster Mac and Cheese\n",
            "Match Score: 2.037187\n",
            "Origin: United States\n",
            "Cuisine: American\n",
            "Description: Macaroni and cheese with chunks of lobster, a decadent comfort food.\n",
            "\n"
          ]
        }
      ]
    },
    {
      "cell_type": "markdown",
      "source": [
        "## Outro\n",
        "\n",
        "In this example, we demonstrated the use of a vector database in recommendation systems, showing that it can effectively suit your use case when paired with a reliable dataset.\n",
        "\n",
        "Beyond this Dish Recommendation system, vector databases can be applied in numerous other fields. In these fields, objects may be represented by a wide range of dimensions, potentially numbering in the hundreds or thousands, tailored to the specific use case.\n",
        "\n",
        "While in this example we used our own definitions and dimension count, there are many embedding services, such as OpenAI, offering predefined dimension sizes for their embedding services.\n",
        "\n",
        "Checkout [our examples](https://drive.google.com/drive/folders/1_W7MgkKGJmbfVQ_QiW_6qcfq0JZYFnhw?usp=sharing) for more ai notebooks and [follow us on X](https://twitter.com/upstash) for product updates."
      ],
      "metadata": {
        "id": "fTtk08nMupwi"
      }
    }
  ]
}