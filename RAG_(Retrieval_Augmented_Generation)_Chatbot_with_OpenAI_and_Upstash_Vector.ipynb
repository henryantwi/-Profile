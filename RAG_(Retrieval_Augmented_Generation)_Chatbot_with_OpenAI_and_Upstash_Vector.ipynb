{
  "cells": [
    {
      "cell_type": "markdown",
      "metadata": {
        "id": "view-in-github",
        "colab_type": "text"
      },
      "source": [
        "<a href=\"https://colab.research.google.com/github/henryantwi/-Profile/blob/main/RAG_(Retrieval_Augmented_Generation)_Chatbot_with_OpenAI_and_Upstash_Vector.ipynb\" target=\"_parent\"><img src=\"https://colab.research.google.com/assets/colab-badge.svg\" alt=\"Open In Colab\"/></a>"
      ]
    },
    {
      "cell_type": "markdown",
      "metadata": {
        "id": "Aot7HwcONuH3"
      },
      "source": [
        "## RAG (Retrieval Augmented Generation) Chatbot with OpenAI and Upstash Vector\n",
        "\n",
        "This notebook is an example implementation of a simple chatbot with RAG using OpenAI models and Upstash Vector.\n",
        "\n",
        "RAG simply means using data from external sources to prevent the chatbot from generating incorrect or \"hallucinated\" information. This can be done by appending a string called _context_ to the prompt, containing usefull information about the topic.\n",
        "\n",
        ">For example the context can contain statistics about the company or documentation for a tool.\n",
        "\n",
        "The model then tries to answer the question with information contained in the context. This way, the model can be instructed to say _\"I don't know\"_ when it can't find the information in the context.\n",
        "\n",
        "## Steps\n",
        "\n",
        "Here is the steps\n",
        "We begin by breaking our data into small chunks and inserting their embeddings into a vector database. We then derive the embedding of the question and query the index to retrieve the top five closest chunks, giving us the most relevant information. We then combine the question and context into a single large prompt and present it to the model. For the embeddings, we used `text-embedding-ada-002` and the completions model was `gpt-3.5-turbo`.\n",
        "\n",
        "## Outline:\n",
        "\n",
        "1. Install dependencies and create an index\n",
        "\n",
        "2. Download and chunk the data\n",
        "\n",
        "3. Generate embeddings\n",
        "\n",
        "4. Query and run the prompt\n",
        "\n",
        "5. Outro\n"
      ]
    },
    {
      "cell_type": "markdown",
      "source": [
        "## Create an Upstash Vector Index"
      ],
      "metadata": {
        "id": "DP6Ghy01V4mI"
      }
    },
    {
      "cell_type": "markdown",
      "metadata": {
        "id": "wqrdefYXNuH5"
      },
      "source": [
        "Create a free vector database from [Upstash Console](https://console.upstash.com) with `1536` dimensions and `DOT_PRODUCT` distance and paste your `url` and `token` here.\n",
        "\n",
        "The dimension size is important as it must match the dimensions of the [embedding model](https://platform.openai.com/docs/guides/embeddings).\n",
        "\n",
        "\n",
        "Generate an OpenAI key and paste it here.\n",
        "\n"
      ]
    },
    {
      "cell_type": "code",
      "execution_count": null,
      "metadata": {
        "id": "rhQkiDiJNuH5"
      },
      "outputs": [],
      "source": [
        "UPSTASH_VECTOR_REST_URL=\"<YOUR_UPSTASH_VECTOR_REST_URL>\"\n",
        "UPSTASH_VECTOR_REST_TOKEN=\"<YOUR_UPSTASH_VECTOR_REST_TOKEN>\"\n",
        "\n",
        "OPENAI_KEY=\"<YOUR_OPENAI_KEY>\""
      ]
    },
    {
      "cell_type": "markdown",
      "source": [
        "## Install dependencies"
      ],
      "metadata": {
        "id": "qlwwk-7daxbH"
      }
    },
    {
      "cell_type": "code",
      "execution_count": null,
      "metadata": {
        "id": "_CzzlY36NuH4",
        "outputId": "aa0951a5-2886-4123-d077-30c27abcbac2",
        "colab": {
          "base_uri": "https://localhost:8080/"
        }
      },
      "outputs": [
        {
          "output_type": "stream",
          "name": "stdout",
          "text": [
            "Collecting tiktoken\n",
            "  Using cached tiktoken-0.5.2-cp310-cp310-manylinux_2_17_x86_64.manylinux2014_x86_64.whl (2.0 MB)\n",
            "Collecting langchain\n",
            "  Using cached langchain-0.1.4-py3-none-any.whl (803 kB)\n",
            "Collecting openai\n",
            "  Using cached openai-1.10.0-py3-none-any.whl (225 kB)\n",
            "Collecting upstash_vector\n",
            "  Using cached upstash_vector-0.2.0-py3-none-any.whl (9.7 kB)\n",
            "Collecting pypdf\n",
            "  Downloading pypdf-4.0.1-py3-none-any.whl (283 kB)\n",
            "\u001b[2K     \u001b[90m━━━━━━━━━━━━━━━━━━━━━━━━━━━━━━━━━━━━━━━━\u001b[0m \u001b[32m284.0/284.0 kB\u001b[0m \u001b[31m6.3 MB/s\u001b[0m eta \u001b[36m0:00:00\u001b[0m\n",
            "\u001b[?25hRequirement already satisfied: regex>=2022.1.18 in /usr/local/lib/python3.10/dist-packages (from tiktoken) (2023.6.3)\n",
            "Requirement already satisfied: requests>=2.26.0 in /usr/local/lib/python3.10/dist-packages (from tiktoken) (2.31.0)\n",
            "Requirement already satisfied: PyYAML>=5.3 in /usr/local/lib/python3.10/dist-packages (from langchain) (6.0.1)\n",
            "Requirement already satisfied: SQLAlchemy<3,>=1.4 in /usr/local/lib/python3.10/dist-packages (from langchain) (2.0.24)\n",
            "Requirement already satisfied: aiohttp<4.0.0,>=3.8.3 in /usr/local/lib/python3.10/dist-packages (from langchain) (3.9.1)\n",
            "Requirement already satisfied: async-timeout<5.0.0,>=4.0.0 in /usr/local/lib/python3.10/dist-packages (from langchain) (4.0.3)\n",
            "Collecting dataclasses-json<0.7,>=0.5.7 (from langchain)\n",
            "  Using cached dataclasses_json-0.6.3-py3-none-any.whl (28 kB)\n",
            "Collecting jsonpatch<2.0,>=1.33 (from langchain)\n",
            "  Using cached jsonpatch-1.33-py2.py3-none-any.whl (12 kB)\n",
            "Collecting langchain-community<0.1,>=0.0.14 (from langchain)\n",
            "  Using cached langchain_community-0.0.16-py3-none-any.whl (1.6 MB)\n",
            "Collecting langchain-core<0.2,>=0.1.16 (from langchain)\n",
            "  Using cached langchain_core-0.1.17-py3-none-any.whl (235 kB)\n",
            "Collecting langsmith<0.1,>=0.0.83 (from langchain)\n",
            "  Using cached langsmith-0.0.85-py3-none-any.whl (54 kB)\n",
            "Requirement already satisfied: numpy<2,>=1 in /usr/local/lib/python3.10/dist-packages (from langchain) (1.23.5)\n",
            "Requirement already satisfied: pydantic<3,>=1 in /usr/local/lib/python3.10/dist-packages (from langchain) (1.10.14)\n",
            "Requirement already satisfied: tenacity<9.0.0,>=8.1.0 in /usr/local/lib/python3.10/dist-packages (from langchain) (8.2.3)\n",
            "Requirement already satisfied: anyio<5,>=3.5.0 in /usr/local/lib/python3.10/dist-packages (from openai) (3.7.1)\n",
            "Requirement already satisfied: distro<2,>=1.7.0 in /usr/lib/python3/dist-packages (from openai) (1.7.0)\n",
            "Collecting httpx<1,>=0.23.0 (from openai)\n",
            "  Using cached httpx-0.26.0-py3-none-any.whl (75 kB)\n",
            "Requirement already satisfied: sniffio in /usr/local/lib/python3.10/dist-packages (from openai) (1.3.0)\n",
            "Requirement already satisfied: tqdm>4 in /usr/local/lib/python3.10/dist-packages (from openai) (4.66.1)\n",
            "Collecting typing-extensions<5,>=4.7 (from openai)\n",
            "  Using cached typing_extensions-4.9.0-py3-none-any.whl (32 kB)\n",
            "Collecting httpx<1,>=0.23.0 (from openai)\n",
            "  Using cached httpx-0.25.2-py3-none-any.whl (74 kB)\n",
            "Requirement already satisfied: attrs>=17.3.0 in /usr/local/lib/python3.10/dist-packages (from aiohttp<4.0.0,>=3.8.3->langchain) (23.2.0)\n",
            "Requirement already satisfied: multidict<7.0,>=4.5 in /usr/local/lib/python3.10/dist-packages (from aiohttp<4.0.0,>=3.8.3->langchain) (6.0.4)\n",
            "Requirement already satisfied: yarl<2.0,>=1.0 in /usr/local/lib/python3.10/dist-packages (from aiohttp<4.0.0,>=3.8.3->langchain) (1.9.4)\n",
            "Requirement already satisfied: frozenlist>=1.1.1 in /usr/local/lib/python3.10/dist-packages (from aiohttp<4.0.0,>=3.8.3->langchain) (1.4.1)\n",
            "Requirement already satisfied: aiosignal>=1.1.2 in /usr/local/lib/python3.10/dist-packages (from aiohttp<4.0.0,>=3.8.3->langchain) (1.3.1)\n",
            "Requirement already satisfied: idna>=2.8 in /usr/local/lib/python3.10/dist-packages (from anyio<5,>=3.5.0->openai) (3.6)\n",
            "Requirement already satisfied: exceptiongroup in /usr/local/lib/python3.10/dist-packages (from anyio<5,>=3.5.0->openai) (1.2.0)\n",
            "Collecting marshmallow<4.0.0,>=3.18.0 (from dataclasses-json<0.7,>=0.5.7->langchain)\n",
            "  Using cached marshmallow-3.20.2-py3-none-any.whl (49 kB)\n",
            "Collecting typing-inspect<1,>=0.4.0 (from dataclasses-json<0.7,>=0.5.7->langchain)\n",
            "  Using cached typing_inspect-0.9.0-py3-none-any.whl (8.8 kB)\n",
            "Requirement already satisfied: certifi in /usr/local/lib/python3.10/dist-packages (from httpx<1,>=0.23.0->openai) (2023.11.17)\n",
            "Collecting httpcore==1.* (from httpx<1,>=0.23.0->openai)\n",
            "  Using cached httpcore-1.0.2-py3-none-any.whl (76 kB)\n",
            "Collecting h11<0.15,>=0.13 (from httpcore==1.*->httpx<1,>=0.23.0->openai)\n",
            "  Using cached h11-0.14.0-py3-none-any.whl (58 kB)\n",
            "Collecting jsonpointer>=1.9 (from jsonpatch<2.0,>=1.33->langchain)\n",
            "  Using cached jsonpointer-2.4-py2.py3-none-any.whl (7.8 kB)\n",
            "Requirement already satisfied: packaging<24.0,>=23.2 in /usr/local/lib/python3.10/dist-packages (from langchain-core<0.2,>=0.1.16->langchain) (23.2)\n",
            "Requirement already satisfied: charset-normalizer<4,>=2 in /usr/local/lib/python3.10/dist-packages (from requests>=2.26.0->tiktoken) (3.3.2)\n",
            "Requirement already satisfied: urllib3<3,>=1.21.1 in /usr/local/lib/python3.10/dist-packages (from requests>=2.26.0->tiktoken) (2.0.7)\n",
            "Requirement already satisfied: greenlet!=0.4.17 in /usr/local/lib/python3.10/dist-packages (from SQLAlchemy<3,>=1.4->langchain) (3.0.3)\n",
            "Collecting mypy-extensions>=0.3.0 (from typing-inspect<1,>=0.4.0->dataclasses-json<0.7,>=0.5.7->langchain)\n",
            "  Using cached mypy_extensions-1.0.0-py3-none-any.whl (4.7 kB)\n",
            "Installing collected packages: typing-extensions, pypdf, mypy-extensions, marshmallow, jsonpointer, h11, typing-inspect, tiktoken, jsonpatch, httpcore, langsmith, httpx, dataclasses-json, upstash_vector, openai, langchain-core, langchain-community, langchain\n",
            "  Attempting uninstall: typing-extensions\n",
            "    Found existing installation: typing_extensions 4.5.0\n",
            "    Uninstalling typing_extensions-4.5.0:\n",
            "      Successfully uninstalled typing_extensions-4.5.0\n",
            "\u001b[31mERROR: pip's dependency resolver does not currently take into account all the packages that are installed. This behaviour is the source of the following dependency conflicts.\n",
            "llmx 0.0.15a0 requires cohere, which is not installed.\n",
            "tensorflow-probability 0.22.0 requires typing-extensions<4.6.0, but you have typing-extensions 4.9.0 which is incompatible.\u001b[0m\u001b[31m\n",
            "\u001b[0mSuccessfully installed dataclasses-json-0.6.3 h11-0.14.0 httpcore-1.0.2 httpx-0.25.2 jsonpatch-1.33 jsonpointer-2.4 langchain-0.1.4 langchain-community-0.0.16 langchain-core-0.1.17 langsmith-0.0.85 marshmallow-3.20.2 mypy-extensions-1.0.0 openai-1.10.0 pypdf-4.0.1 tiktoken-0.5.2 typing-extensions-4.9.0 typing-inspect-0.9.0 upstash_vector-0.2.0\n"
          ]
        }
      ],
      "source": [
        "%pip install tiktoken langchain openai upstash_vector pypdf"
      ]
    },
    {
      "cell_type": "markdown",
      "source": [
        "## Download and chunk the data"
      ],
      "metadata": {
        "id": "n5p7RzTdW5gX"
      }
    },
    {
      "cell_type": "markdown",
      "metadata": {
        "id": "szNfqycENuH5"
      },
      "source": [
        "In this notebook, the pdf version of the [Bill Evans](https://en.wikipedia.org/wiki/Bill_Evans)'s wiki page will be used.\n",
        "\n",
        "We'll download the PDF version of this article, extract the text and store it in a variable called `filedata`."
      ]
    },
    {
      "cell_type": "code",
      "execution_count": null,
      "metadata": {
        "id": "G5modMncNuH5",
        "colab": {
          "base_uri": "https://localhost:8080/"
        },
        "outputId": "c02e6f17-3e90-4685-95b8-77ff454e0ba4"
      },
      "outputs": [
        {
          "output_type": "stream",
          "name": "stdout",
          "text": [
            "poser who worked primarily\n",
            "as the leader of his trio.[2] His interpretations of traditional jazz\n",
            "repertoire, his ways of using impressionist harmony and block\n",
            "chords, and his trademark rhythmically independent, \"singing\"\n",
            "melodic lines, continue to influence jazz pianists today.\n",
            "Born in Plainfield, New Jersey, United States, he studied classical\n",
            "music at Southeastern Louisiana University and the Mannes\n",
            "School of Music, in New York City, where he majored in\n",
            "composition and received the Artist Dipl\n"
          ]
        }
      ],
      "source": [
        "import os\n",
        "from pypdf import PdfReader\n",
        "\n",
        "if not os.path.exists('data.pdf'):\n",
        "  !wget -O data.pdf https://en.wikipedia.org/api/rest_v1/page/pdf/Bill_Evans\n",
        "\n",
        "reader = PdfReader(\"data.pdf\")\n",
        "filedata = \"\"\n",
        "for page in reader.pages:\n",
        "    filedata += page.extract_text() + \"\\n\"\n",
        "\n",
        "# A sample\n",
        "print(filedata[500:1000])\n"
      ]
    },
    {
      "cell_type": "markdown",
      "metadata": {
        "id": "N9XYcJ-4NuH5"
      },
      "source": [
        "Define the `token_len` function to be used by the langchain splitter."
      ]
    },
    {
      "cell_type": "code",
      "execution_count": null,
      "metadata": {
        "id": "lj_a3ypLNuH5",
        "outputId": "696a0c3f-8c73-4232-a008-26b7db49771d",
        "colab": {
          "base_uri": "https://localhost:8080/"
        }
      },
      "outputs": [
        {
          "output_type": "stream",
          "name": "stdout",
          "text": [
            "File has 17562 tokens\n"
          ]
        }
      ],
      "source": [
        "import tiktoken\n",
        "\n",
        "enc = tiktoken.encoding_for_model('gpt-3.5-turbo')\n",
        "\n",
        "def token_len(text):\n",
        "    return len(enc.encode(text))\n",
        "\n",
        "print(f\"File has {token_len(filedata)} tokens\")"
      ]
    },
    {
      "cell_type": "markdown",
      "metadata": {
        "id": "lfAVMiLgNuH5"
      },
      "source": [
        "`text_splitter` splits our long article into chunks each containing about 150 tokens. You can learn more about it [here](https://api.python.langchain.com/en/latest/text_splitter/langchain.text_splitter.RecursiveCharacterTextSplitter.html)"
      ]
    },
    {
      "cell_type": "code",
      "execution_count": null,
      "metadata": {
        "id": "E-1e5hLdNuH6",
        "outputId": "e121ba6e-256f-481f-e160-f3acd19503b3",
        "colab": {
          "base_uri": "https://localhost:8080/"
        }
      },
      "outputs": [
        {
          "output_type": "execute_result",
          "data": {
            "text/plain": [
              "['Bill Evans\\nEvans in 1961\\nBackground information\\nBirth name William John\\nEvans\\nBorn August 16, 1929\\nPlainfield, New\\nJersey, U.S.\\nDied September 15,\\n1980 (aged 51)\\nNew York City,\\nU.S.\\nGenres Jazz · modal jazz ·\\nthird stream · cool\\njazz · smooth jazz\\n· post-bop\\nOccupation(s)Musician ·\\ncomposer ·\\narranger ·\\nconductor\\nInstrument(s)Piano\\nDiscographyBill Evans\\ndiscography\\nYears active 1950s–1980[1]Bill Evans',\n",
              " 'discography\\nYears active 1950s–1980[1]Bill Evans\\nWilliam John Evans (Augus t 16, 1929 – September 15, 1980)\\nwas an American jazz pianist and composer who worked primarily\\nas the leader of his trio.[2] His interpretations of traditional jazz\\nrepertoire, his ways of using impressionist harmony and block\\nchords, and his trademark rhythmically independent, \"singing\"\\nmelodic lines, continue to influence jazz pianists today.\\nBorn in Plainfield, New Jersey, United States, he studied classical\\nmusic at Southeastern Louisiana University and the Mannes\\nSchool of Music, in New York City, where he majored in',\n",
              " \"School of Music, in New York City, where he majored in\\ncomposition and received the Artist Diploma. In 1955, he moved to\\nNew York City, where he worked with bandleader and theorist\\nGeorge Russell. In 1958, Evans joined Miles Davis's sextet, which\\nin 1959, then immersed in modal jazz, recorded Kind of Blue, the\\nbest-selling jazz album ever.[3]\\nIn late 1959, Evans left the Miles Davis band and began his career\\nas a leader, with bassist Scott LaFaro and drummer Paul Motian, a\\ngroup now regarded as a seminal modern jazz trio. In 1961, they\",\n",
              " \"group now regarded as a seminal modern jazz trio. In 1961, they\\nrecorded two albums during an engagement at New York's Village\\nVangua rd jazz club, Sunday  at the Village Vanguar d and Waltz for\\nDebby; a complete set of their Vangua rd recordings on three CDs\\nwas issued decades later. However, ten days after this booki ng\\nended, LaFaro died in a car accident. After months without public\\nperformances, Evans reemerged with a new trio, featuring bassist\\nChuck Israels. In 1963, Evans recorded Conversations with Myself,\"]"
            ]
          },
          "metadata": {},
          "execution_count": 9
        }
      ],
      "source": [
        "from langchain.text_splitter import RecursiveCharacterTextSplitter\n",
        "\n",
        "text_splitter = RecursiveCharacterTextSplitter(\n",
        "    chunk_size=150,\n",
        "    chunk_overlap=20,\n",
        "    length_function=token_len,\n",
        "    separators=[\"\\n\\n\", \"\\n\", \" \", \"\"]\n",
        ")\n",
        "\n",
        "chunks = text_splitter.split_text(filedata)\n",
        "chunks[:4]"
      ]
    },
    {
      "cell_type": "markdown",
      "source": [
        "## Generate embeddings"
      ],
      "metadata": {
        "id": "wukE-n1bcM6n"
      }
    },
    {
      "cell_type": "markdown",
      "metadata": {
        "id": "5SA-QBpHNuH6"
      },
      "source": [
        "Here are some utility functions for creating embeddings for single and multiple chunks. An embedding is essentialy an array of floats. When given a string, the embedding model generates an embedding representing that string.\n",
        "\n",
        "Here we check the dimension count generated by the embedding model and it is `1536` as expected."
      ]
    },
    {
      "cell_type": "code",
      "execution_count": null,
      "metadata": {
        "id": "O26KNtOANuH6",
        "outputId": "3f96ab63-e0b9-4f34-bde9-29da68085f76"
      },
      "outputs": [
        {
          "data": {
            "text/plain": [
              "1536"
            ]
          },
          "execution_count": 103,
          "metadata": {},
          "output_type": "execute_result"
        }
      ],
      "source": [
        "from openai import OpenAI\n",
        "\n",
        "openai = OpenAI(\n",
        "   api_key=OPENAI_KEY\n",
        ")\n",
        "\n",
        "def get_embeddings(chunks, model=\"text-embedding-ada-002\"):\n",
        "   chunks = [c.replace(\"\\n\", \" \") for c in chunks]\n",
        "\n",
        "   res =  openai.embeddings.create(input = chunks, model=model).data\n",
        "\n",
        "   return [r.embedding for r in res]\n",
        "\n",
        "# For a single text\n",
        "def get_embedding(text, model=\"text-embedding-ada-002\"):\n",
        "   text = text.replace(\"\\n\", \" \")\n",
        "   return get_embeddings([text], model)[0]\n",
        "\n",
        "# Embedding of the first chunk\n",
        "len(get_embedding(chunks[0]))"
      ]
    },
    {
      "cell_type": "markdown",
      "metadata": {
        "id": "MCOK777wNuH6"
      },
      "source": [
        "Using the utiliy functions we generate embeddings in batches of 10's and convert them to `Vector` objects to be inserted into our index.\n",
        "\n",
        "Conversion to `Vector` object is just there for type safety."
      ]
    },
    {
      "cell_type": "code",
      "execution_count": null,
      "metadata": {
        "id": "Z_luw7K8NuH6",
        "outputId": "5c5545eb-f865-411f-db49-663ec007073f",
        "colab": {
          "base_uri": "https://localhost:8080/",
          "height": 268
        }
      },
      "outputs": [
        {
          "output_type": "stream",
          "name": "stderr",
          "text": [
            "  0%|          | 0/14 [00:00<?, ?it/s]\n"
          ]
        },
        {
          "output_type": "error",
          "ename": "NameError",
          "evalue": "name 'get_embeddings' is not defined",
          "traceback": [
            "\u001b[0;31m---------------------------------------------------------------------------\u001b[0m",
            "\u001b[0;31mNameError\u001b[0m                                 Traceback (most recent call last)",
            "\u001b[0;32m<ipython-input-10-016c945dcce4>\u001b[0m in \u001b[0;36m<cell line: 9>\u001b[0;34m()\u001b[0m\n\u001b[1;32m     10\u001b[0m     \u001b[0mbatch\u001b[0m \u001b[0;34m=\u001b[0m \u001b[0mchunks\u001b[0m\u001b[0;34m[\u001b[0m\u001b[0mi\u001b[0m\u001b[0;34m:\u001b[0m\u001b[0mi\u001b[0m\u001b[0;34m+\u001b[0m\u001b[0mbatch_count\u001b[0m\u001b[0;34m]\u001b[0m\u001b[0;34m\u001b[0m\u001b[0;34m\u001b[0m\u001b[0m\n\u001b[1;32m     11\u001b[0m \u001b[0;34m\u001b[0m\u001b[0m\n\u001b[0;32m---> 12\u001b[0;31m     \u001b[0membeddings\u001b[0m \u001b[0;34m=\u001b[0m \u001b[0mget_embeddings\u001b[0m\u001b[0;34m(\u001b[0m\u001b[0mbatch\u001b[0m\u001b[0;34m)\u001b[0m\u001b[0;34m\u001b[0m\u001b[0;34m\u001b[0m\u001b[0m\n\u001b[0m\u001b[1;32m     13\u001b[0m \u001b[0;34m\u001b[0m\u001b[0m\n\u001b[1;32m     14\u001b[0m     \u001b[0;32mfor\u001b[0m \u001b[0mi\u001b[0m\u001b[0;34m,\u001b[0m \u001b[0mchunk\u001b[0m \u001b[0;32min\u001b[0m \u001b[0menumerate\u001b[0m\u001b[0;34m(\u001b[0m\u001b[0mbatch\u001b[0m\u001b[0;34m)\u001b[0m\u001b[0;34m:\u001b[0m\u001b[0;34m\u001b[0m\u001b[0;34m\u001b[0m\u001b[0m\n",
            "\u001b[0;31mNameError\u001b[0m: name 'get_embeddings' is not defined"
          ]
        }
      ],
      "source": [
        "from tqdm import tqdm, trange\n",
        "from upstash_vector import Vector\n",
        "\n",
        "vectors = []\n",
        "\n",
        "# generate the embeddings in batches of 10\n",
        "batch_count = 10\n",
        "\n",
        "for i in trange(0, len(chunks), batch_count):\n",
        "    batch = chunks[i:i+batch_count]\n",
        "\n",
        "    embeddings = get_embeddings(batch)\n",
        "\n",
        "    for i, chunk in enumerate(batch):\n",
        "        vec = Vector(id=f\"chunk-{i}\", vector=embeddings[i], metadata={\n",
        "            \"text\": chunk\n",
        "        })\n",
        "\n",
        "        vectors.append(vec)"
      ]
    },
    {
      "cell_type": "markdown",
      "source": [
        "Here is a sample of vectors we will upsert into the Upstash Vector."
      ],
      "metadata": {
        "id": "BO9rWLOneVAH"
      }
    },
    {
      "cell_type": "code",
      "execution_count": null,
      "metadata": {
        "id": "CehMBPl4NuH6",
        "outputId": "3a4bed6e-9d49-4b12-e9c8-231c4fa1fa37"
      },
      "outputs": [
        {
          "name": "stdout",
          "output_type": "stream",
          "text": [
            "Vector(id='chunk-0', vector=[-0.02431023307144642, -0.010620915330946445, 0.009922416880726814, -0.009548221714794636, -0.014955345541238785, 0.04093698412179947, -0.009691663086414337, -0.012379634194076061, -0.017499875277280807, -0.005054757464677095, -0.028139499947428703, 0.012859851121902466, 0.01218006294220686, 0.007434017024934292, -0.005297984462231398, 0.009591877460479736, 0.022900763899087906, -0.002179688774049282, 0.003816793905571103, -0.01680137775838375, -0.013732974417507648, -0.02116699144244194, -0.007371651008725166, 0.004795938730239868, -0.0034924910869449377, 0.013533403165638447, 0.0222646314650774, -0.02764057368040085, 0.010327795520424843, -0.009941126219928265, 0.021828070282936096, 0.014855560846626759, -0.024983784183859825, -0.033877164125442505, -0.006517237983644009, -0.02006935141980648, -0.020268922671675682, -0.0025694756768643856, 0.005974654573947191, 0.010595968924462795, 0.041660431772470474, 0.022813450545072556, -0.00118807062972337, 0.008700044825673103, -0.009679189883172512, -0.0004965885891579092, 0.005740782245993614, -0.006274010986089706, -0.010645861737430096, 0.03532405197620392, 0.02127924934029579, 0.03228059783577919, 0.0043936786241829395, -0.016427181661128998, 0.020717956125736237, -0.008182408288121223, -0.02679239585995674, 0.008999401703476906, -0.0015630456618964672, -0.012491892091929913, -0.021703338250517845, -0.0017212992534041405, -0.0167140644043684, -0.0165144931524992, -0.02347452938556671, -0.011319412849843502, -0.013832759112119675, 0.002625604858621955, 0.014356633648276329, 0.019695155322551727, 0.0016261911951005459, -0.002728508785367012, -0.018310632556676865, 0.013283939100801945, 0.03814299404621124, -0.011406725272536278, -0.03699545934796333, -0.009778975509107113, -0.02107967808842659, 0.009498328901827335, 0.007627351209521294, -0.011045003309845924, -0.0006170327542349696, 0.014668462797999382, 0.006361322943121195, -0.005959062837064266, -0.007870578207075596, -0.0017976975068449974, -0.016240084543824196, -0.003539265599101782, -0.005313575733453035, 0.007440253626555204, 0.0014928840100765228, 0.00786434207111597, 0.00013233267236500978, 0.029162300750613213, -0.00587798748165369, 0.017499875277280807, -0.004184752702713013, -0.03577308729290962, 0.013059422373771667, 0.007140897214412689, -0.010614678263664246, -0.012872324325144291, -0.04181010648608208, 0.003024746896699071, -0.004072494339197874, -0.009336177259683609, 0.003673352301120758, 0.0036421692930161953, 0.0027955521363765, -0.00470238970592618, 0.019320959225296974, -0.024048296734690666, -0.011955545283854008, -0.006404979154467583, 0.0027721647638827562, -0.026493040844798088, 0.0083570322021842, -0.01673901081085205, 0.007072294596582651, 0.01980741322040558, 0.003299156902357936, -0.027216484770178795, 0.009298757649958134, -8.809185237623751e-05, -0.0332535058259964, -0.0328793078660965, 0.016352342441678047, 0.010215536691248417, 0.030933493748307228, 0.007047348190099001, 0.011225864291191101, -0.024197975173592567, -0.004646260756999254, 0.026991967111825943, -0.015441800467669964, 0.0029842089861631393, 0.024235393851995468, -0.02651798725128174, 0.013046949170529842, 0.018522676080465317, -0.0076148780062794685, -0.02444743737578392, -0.020767848938703537, 0.022726139053702354, 0.0020393654704093933, 0.02326248586177826, 0.001972322119399905, 0.003208726178854704, 0.009292521513998508, 0.002650551265105605, 0.019607843831181526, -0.016988474875688553, 0.029511550441384315, 0.014481364749372005, -0.030858654528856277, 0.03799331560730934, -0.019108915701508522, -0.020505912601947784, 0.006604550406336784, 0.0036421692930161953, -0.0014367547119036317, 0.013957491144537926, 0.004524646792560816, 0.02445991151034832, 0.004200344439595938, 0.0165144931524992, 0.0008130955975502729, 0.00582809466868639, -0.0057095992378890514, -0.007415307220071554, -0.003794965799897909, 0.007303048390895128, -0.020892580971121788, 0.0043375492095947266, 0.010464999824762344, 0.004590131342411041, -0.019183754920959473, 0.00940477941185236, -0.007465200033038855, 0.020356234163045883, 0.012616624124348164, 0.01885945163667202, 0.010458763688802719, 0.010115751065313816, 0.02351194992661476, 0.002296624705195427, 0.016240084543824196, -0.001847590203396976, 0.004016364924609661, 0.0331537202000618, 0.011288230307400227, -0.02463453635573387, -0.6545926332473755, -0.0065608941949903965, -0.011855759657919407, -0.003910342697054148, 0.014618569985032082, 0.008045203052461147, 0.01332135871052742, 0.012516838498413563, 0.01392007153481245, 0.007172080222517252, 0.003617222886532545, 0.006411215756088495, 0.030783815309405327, 0.007427780423313379, -0.015354488044977188, -0.029411764815449715, 0.005457017570734024, -0.015965674072504044, 0.014830614440143108, -0.033902108669281006, 0.0020799031481146812, 0.028139499947428703, -0.012086514383554459, -0.015229756012558937, 0.026942074298858643, 0.0165144931524992, 0.009623060002923012, -0.007895524613559246, -0.00932994019240141, 0.010383924469351768, -0.006666915956884623, 0.03452577069401741, 0.0038074390031397343, -0.007184553425759077, 0.0444294773042202, 0.0038853962905704975, -0.010870378464460373, 0.0223519429564476, 0.009018111042678356, 0.04138601943850517, 0.0028968965634703636, -0.02781519666314125, 0.022676246240735054, -0.004761637654155493, 0.013196627609431744, 0.01873471960425377, -0.0001348662917735055, -0.005494437180459499, -0.0035798035096377134, 0.004287656396627426, 0.018073640763759613, 0.007552511990070343, -0.015005238354206085, 0.009747792035341263, -0.03749438747763634, 0.0003254721232224256, 3.654252577689476e-05, -0.003779374295845628, 0.009778975509107113, -0.0041753980331122875, 0.000730850559193641, -0.025370454415678978, -0.01993214525282383, 0.03864191845059395, -0.017063314095139503, 0.012909743934869766, -0.015978146344423294, 0.018310632556676865, 0.01783665083348751, -0.004222172312438488, 0.003626577788963914, 0.00024478620616719127, 0.0003625018580351025, -0.006542184390127659, 0.0222147386521101, -0.007695953827351332, 0.014406525529921055, 0.003935289103537798, -0.009878760203719139, -0.01774933934211731, -0.025145936757326126, -0.016901163384318352, 0.0011257047299295664, -0.002583507914096117, 0.04819637909531593, 0.04921917989850044, -0.004905079025775194, 0.009591877460479736, 0.023848725482821465, 0.00026115725631825626, 0.016152771189808846, -0.01060220506042242, 0.012884797528386116, -0.0049019609577953815, -0.004162924829870462, 0.02429775893688202, 0.0036546424962580204, 0.01115726213902235, 0.00020814622985199094, -0.01756224036216736, -0.03445092961192131, -0.02102978527545929, 0.03233049064874649, -0.01784912496805191, -0.00010884800576604903, 0.023873671889305115, 0.011138551868498325, -0.00881230365484953, 0.04981788992881775, -0.001460921484977007, 0.020693009719252586, -0.029087461531162262, -0.01670159213244915, -0.011431671679019928, -0.020206555724143982, -0.02998553030192852, -0.0010758120333775878, 0.012055330909788609, -0.0043780868873000145, -0.04677443578839302, 0.018585043027997017, -0.01904655061662197, -0.012348450720310211, -0.018260739743709564, -0.0222022645175457, 0.026418201625347137, 0.0003143631911370903, -0.013645661994814873, -0.010670808143913746, 0.03257995471358299, 0.004577658139169216, 0.01984483376145363, 0.008537893183529377, 0.0003617222828324884, 0.028239285573363304, -0.024933891370892525, 0.007527565583586693, -0.005191962234675884, 0.0055443295277655125, -0.02656787820160389, -0.03208102658390999, -0.011693608947098255, 0.0003319036040920764, 0.036122336983680725, 0.006037020590156317, -0.01998203806579113, 0.014531257562339306, -0.009373596869409084, -0.005204435437917709, -0.014169535599648952, -0.00180237484164536, -0.005893578752875328, -0.007714663632214069, 0.02781519666314125, 0.017275357618927956, -0.009760265238583088, -0.016152771189808846, -0.02901262231171131, -0.01883450523018837, -0.013009529560804367, 0.00023874451289884746, -0.010221772827208042, -0.015603951178491116, 0.0016199545934796333, 0.018185900524258614, -0.013184154406189919, 0.006392505951225758, -0.017375143244862556, -0.019283540546894073, -0.023549368605017662, 0.005210672039538622, 0.02101731300354004, 0.007253155577927828, -0.0014788517728447914, 0.01005962211638689, 0.015429327264428139, -0.00362969608977437, -0.02450980432331562, 0.0010594408959150314, -0.0034706629812717438, -0.002199957612901926, -0.009011874906718731, -0.014431471936404705, -0.012554258108139038, 0.035024695098400116, 0.0014562440337613225, 0.016140298917889595, 0.037244923412799835, -0.02554507739841938, 0.0027300678193569183, -0.016289977356791496, 0.006910143420100212, -0.0014032330363988876, -0.021304195746779442, 0.01577857695519924, 0.04637529328465462, -0.008238537237048149, -0.0034176521003246307, 0.02011924423277378, 0.04126128926873207, 0.024110661819577217, 0.05672803521156311, 0.041785161942243576, -0.02095494605600834, 0.010184353217482567, -0.02559497021138668, 0.016339870169758797, -0.02661777101457119, 0.020318813621997833, 0.04013870283961296, 0.012884797528386116, -0.012510602362453938, -0.01792396418750286, -0.03542383760213852, 0.00634884973987937, 0.012441999278962612, -0.00995983649045229, 0.008194880560040474, -0.014094696380198002, -0.0004747605125885457, 0.027391109615564346, 0.004770992323756218, 0.003286683699116111, -0.005223145242780447, -0.014917926862835884, -0.0012348450254648924, 0.013994910754263401, 0.014868034049868584, -0.0026630244683474302, -0.020880108699202538, -0.0073965974152088165, 0.007128424011170864, 0.0015466746408492327, 0.0028547996189445257, -0.01547922007739544, -0.014456418342888355, 0.026268523186445236, -0.02006935141980648, 0.04033827409148216, -0.0035330289974808693, 0.0012473182287067175, 0.0064361621625721455, 0.00891208928078413, -0.004081849008798599, 0.019208701327443123, -0.012017911300063133, -0.011213391087949276, 0.028014767915010452, -0.02549518458545208, 0.019121389836072922, 0.000429155450547114, 0.032779522240161896, -0.024235393851995468, 0.0027472185902297497, 0.01766202598810196, -0.010614678263664246, 0.0013775071129202843, 0.01173102855682373, 0.012604150921106339, 0.010277902707457542, 0.004474754445254803, -0.0070535847917199135, 0.007508855778723955, 0.014680936001241207, 0.03125779703259468, -0.01877214014530182, -0.014768248423933983, 0.0013548994902521372, -0.0012083395849913359, 0.014917926862835884, -0.021865488961338997, -0.01055854931473732, 0.0035267923958599567, -0.0278401430696249, 0.005126478150486946, -0.016951054334640503, -0.007907997816801071, -0.010203063488006592, 0.008656389079988003, 0.002031569601967931, -0.03973956033587456, -0.03400189429521561, 0.02217731811106205, 0.004250236786901951, -0.0279399286955595, 0.0015809759497642517, 0.00880606658756733, 0.007253155577927828, -0.007664770819246769, 0.020830215886235237, 0.021790649741888046, 0.027540788054466248, 0.0028891009278595448, 0.004356259014457464, 0.017150625586509705, -0.012080277316272259, 0.02010677009820938, -0.009030584245920181, 0.02664271742105484, -0.02237688936293125, 0.0011483123525977135, 0.0017914609052240849, -0.007789502386003733, -0.004240882117301226, 0.04016364738345146, -0.000682127196341753, -0.004480991046875715, -0.010945217683911324, 0.007870578207075596, -0.0043250760063529015, 0.005444544367492199, -0.006535947788506746, 0.005357231944799423, -0.01547922007739544, 0.009423489682376385, 0.01559147797524929, 0.00018855943926610053, -0.020381180569529533, 0.018572568893432617, -0.010801776312291622, -0.02339969016611576, -0.026318415999412537, -0.03891633078455925, -0.00938607007265091, 0.09424737095832825, 0.022950656712055206, 0.003717008512467146, 0.013408671133220196, -0.014206955209374428, 0.002558561507612467, -0.012441999278962612, -0.00937983300536871, 0.01778675802052021, 0.008899616077542305, 0.01995709165930748, -0.013608242385089397, 0.006404979154467583, 0.02681734226644039, 0.006280247587710619, -0.01895923726260662, -0.011232101358473301, -0.046225614845752716, 0.02569475583732128, -0.03804320842027664, -0.025869380682706833, 0.005422716028988361, 0.010938981547951698, 0.038267724215984344, -0.015366961248219013, -0.0220650602132082, 0.0222646314650774, 0.0024010876659303904, 0.028014767915010452, -0.0031073815189301968, 0.0007444930961355567, 0.012560495175421238, -0.0028392081148922443, -0.009860050864517689, -0.011668662540614605, 0.025295615196228027, 0.023037968203425407, 0.025744648650288582, 0.02119193784892559, 0.004761637654155493, 0.005322930868715048, 0.005082821939140558, 0.0037637827917933464, -0.007571221794933081, -0.0008169934735633433, 0.010309085249900818, -0.00292652053758502, 0.03991418331861496, 0.015279648825526237, -0.005675298161804676, 0.006174225360155106, 0.02131666988134384, -0.002803347771987319, -0.0007686598692089319, -0.0024135608691722155, 0.013670608401298523, 0.009492091834545135, -0.006878960411995649, 0.022601407021284103, 0.024185501039028168, 0.018697300925850868, -0.020456019788980484, -0.0003936848370358348, -0.024023350328207016, 0.026917127892374992, -0.015242229215800762, -0.02104225941002369, -0.015192336402833462, 0.002365227323025465, 0.006604550406336784, 0.036272015422582626, 0.01885945163667202, -0.013358778320252895, 0.006517237983644009, 0.033902108669281006, -0.00886219646781683, 0.01007833145558834, -0.00496432650834322, -0.012042857706546783, 0.017113206908106804, 0.003023187629878521, -0.02659282460808754, 0.003012273693457246, -0.02101731300354004, 0.010246719233691692, 0.004643142223358154, 0.019246120005846024, -0.018385471776127815, -0.005475727375596762, 0.01329641230404377, 0.006535947788506746, -0.016165245324373245, 0.021628499031066895, -0.020268922671675682, -0.00606508506461978, 0.003816793905571103, 0.023000549525022507, 0.015105023980140686, 0.0020284513011574745, -0.004512174054980278, 0.005241855047643185, -0.006486054975539446, 0.012604150921106339, -0.03225564956665039, -0.015179863199591637, 0.01063338853418827, 0.028039714321494102, 0.013246520422399044, -0.0009269134025089443, -0.0014250611420720816, -0.001976999454200268, -0.005023574456572533, 0.03188145533204079, 0.01219877228140831, 0.03200618550181389, 0.019570423290133476, 0.0016433418495580554, -0.006224118173122406, -0.005404006224125624, -0.009741555899381638, 0.015903307124972343, -0.0443296916782856, -0.005404006224125624, -0.02114204503595829, -0.029237139970064163, -0.009317466989159584, 0.010963927954435349, -0.03642169386148453, 0.0009144401992671192, -0.009086713194847107, 0.007982837036252022, 0.020780323073267937, -0.00012141863408032805, 0.005796911660581827, -0.036172229796648026, -0.0005188064533285797, 0.002432270674034953, -0.0013104637619107962, -0.00838821567595005, -0.0337025411427021, -0.028388964012265205, 0.003124532289803028, 0.015167389996349812, -0.029711121693253517, -0.019682683050632477, -0.023561842739582062, -0.00020541773119475693, 0.007296811789274216, -0.01438158005475998, 0.019720101729035378, -0.00587798748165369, -0.0020721075125038624, -0.014780721627175808, 0.018323104828596115, -0.014132115989923477, -0.021815596148371696, -0.030234994366765022, 0.006227236241102219, 0.009398543275892735, 0.02127924934029579, -0.0034519534092396498, 0.020855162292718887, 0.010920271277427673, 0.002616249956190586, 0.008045203052461147, 0.0017758694011718035, -0.009130369871854782, -0.0013728296617045999, -0.00015581733896397054, 0.02674250304698944, 0.004786584060639143, 0.019121389836072922, -0.01169984508305788, 0.010383924469351768, -0.0015560295432806015, 0.006015192251652479, 0.0022264630533754826, -0.005718954373151064, -0.005472608841955662, -0.018173426389694214, 0.0018928054487332702, -0.02332485094666481, -0.007914233952760696, 0.014344160445034504, -0.011949309147894382, -0.007652297616004944, 0.01779923215508461, 0.0013135820627212524, 0.002231140621006489, 0.008051439188420773, 0.024023350328207016, -0.011911889538168907, 0.017100732773542404, -0.01105123944580555, -0.014693409204483032, -0.023075388744473457, -0.02110462449491024, -0.026493040844798088, -0.012074041180312634, -0.0025523249059915543, 0.004315721336752176, 0.021304195746779442, -0.01000972930341959, -0.015167389996349812, 0.002321571111679077, 0.02126677706837654, -0.03904106095433235, 0.004699271637946367, 0.015928253531455994, -0.002781519666314125, -0.025894327089190483, -0.029162300750613213, -0.0330040417611599, -0.02538292668759823, -0.0009853814262896776, 0.03849224001169205, 0.014007383957505226, 0.007140897214412689, -0.03684578090906143, -0.030234994366765022, -0.003122973022982478, -0.0033708775881677866, 0.015840942040085793, 0.004412388429045677, 0.03584792837500572, 0.009298757649958134, 0.008700044825673103, -0.015167389996349812, 0.005372823216021061, -0.008693808689713478, -0.001549792941659689, 0.00666067935526371, 0.0049393801018595695, -0.014543730765581131, 0.00015269903815351427, 0.004318839404731989, 0.009966072626411915, -0.03859202563762665, -0.014843087643384933, 0.030708976089954376, -0.021965274587273598, -0.018185900524258614, 0.0037138902116566896, -0.010826722718775272, -0.004961208440363407, 0.022701192647218704, -0.022514095529913902, 0.014755775220692158, -0.0003816014213953167, -0.03130768984556198, -0.023624207824468613, 0.013770394027233124, -0.026044005528092384, -0.0030060370918363333, -0.009473382495343685, -0.011849523521959782, -0.00023971898190211505, -0.022576460614800453, -0.021790649741888046, 0.003079317044466734, -0.018160954117774963, 0.02106720581650734, -0.011518984101712704, -0.013795340433716774, -0.006220999639481306, 0.00525432825088501, -0.022514095529913902, -0.016364816576242447, -0.006298957392573357, 0.02120441012084484, -0.012716409750282764, -0.018397944048047066, 0.008787357248365879, -0.014818141236901283, 0.0030091553926467896, 0.00530422106385231, -0.011269520968198776, -0.04340667650103569, 0.0016901162452995777, 0.010521129705011845, 0.0166641715914011, 0.01899665780365467, -0.020505912601947784, -0.003302275203168392, 0.0005636319401673973, -0.027690464630723, -0.012541784904897213, 0.018273212015628815, -0.010758119635283947, -0.024871526286005974, 0.0006466565537266433, -0.020480966195464134, -0.011294466443359852, 0.026168737560510635, -0.01501771155744791, 0.0011030971072614193, -0.008488000370562077, -0.01653943955898285, 0.006454871967434883, 0.02223968505859375, -0.021940328180789948, 0.004346904344856739, -0.010808012448251247, -0.0332285575568676, -0.027191538363695145, -0.005756373982876539, -0.008494237437844276, -0.003673352301120758, -0.033128771930933, -0.01165618933737278, -0.01986978016793728, 0.005457017570734024, -0.012629097327589989, 0.004774110857397318, 0.012959636747837067, -0.016165245324373245, -0.005980891175568104, 0.0016137179918587208, -0.010228009894490242, 0.028064660727977753, -0.010876615531742573, -0.002145387465134263, -0.005441425833851099, -0.01991967298090458, -0.0069974553771317005, 0.0039976551197469234, 0.009754029102623463, -0.020742902532219887, -0.02337474375963211, -0.014680936001241207, -0.010645861737430096, 0.02444743737578392, 0.006096268072724342, -0.005360350478440523, -0.012017911300063133, 0.0017290948890149593, -0.019607843831181526, 0.004537119995802641, 0.012785011902451515, 0.01165618933737278, -0.016913635656237602, 0.014294267632067204, 0.0028220575768500566, 0.010408870875835419, 0.003433243604376912, -0.029287032783031464, -0.018273212015628815, -0.04305742681026459, -0.004596367944031954, -0.02006935141980648, -0.005366586614400148, 0.016052985563874245, 0.004403033293783665, -0.0034924910869449377, -0.02876316010951996, 0.011194681748747826, -0.05682782083749771, -0.03145736828446388, -0.027241431176662445, 0.026418201625347137, 0.01994461938738823, -0.0024930774234235287, -0.008182408288121223, 0.010751883499324322, -0.010015965439379215, 0.006829067599028349, -0.0224143099039793, -0.02554507739841938, 0.026493040844798088, -0.004646260756999254, -0.015030184760689735, 0.011113605462014675, -0.013882651925086975, -0.008525419980287552, 0.036122336983680725, 0.007789502386003733, 0.014743302017450333, -0.004078730940818787, 0.002132914261892438, 0.006760464981198311, 0.014082223176956177, 0.03684578090906143, 0.0027207129169255495, 0.007964126765727997, 0.0016636106884106994, -0.03198124095797539, 0.0011615651892498136, -0.013084368780255318, -0.027391109615564346, -0.04862046614289284, 0.026418201625347137, 0.0027643691282719374, -0.003233672585338354, 0.004664970096200705, 0.009747792035341263, -0.012959636747837067, -0.010920271277427673, -0.005881105549633503, 0.000990058877505362, 0.00788928847759962, -0.007964126765727997, 0.010022202506661415, -0.004007009789347649, 0.009136606007814407, 0.005235618446022272, -0.0017228584038093686, -0.014219428412616253, 0.010914035141468048, -0.002199957612901926, 0.019171282649040222, -0.006233472842723131, 0.007789502386003733, 0.01396996434777975, -0.005662824958562851, -0.0165643859654665, -0.002979531418532133, 0.010277902707457542, 0.0030637255404144526, -0.01217382587492466, 0.012859851121902466, -0.01577857695519924, -0.0007663211436010897, -0.04223419725894928, 0.0017025894485414028, -0.0016324277967214584, -0.01776181161403656, 0.020717956125736237, -0.008001546375453472, -0.009373596869409084, 0.0073404680006206036, -0.008244773373007774, 0.004555829800665379, 0.014057276770472527, 0.00290001486428082, -0.0037980841007083654, 0.01220500934869051, 0.20915032923221588, -0.009367359802126884, 0.003872923320159316, -0.00444045290350914, -0.01761213317513466, 0.029087461531162262, 0.008450581692159176, 0.01761213317513466, -0.009298757649958134, 0.0017805468523874879, -0.001860063406638801, 0.04003891721367836, -0.013994910754263401, 0.011356832459568977, 0.013957491144537926, -0.025170883163809776, -0.028189392760396004, -0.0224143099039793, -0.01887192577123642, -0.014306740835309029, -0.004293892998248339, -0.008581549860537052, 0.006729281973093748, -0.011780921369791031, 0.007820685394108295, 0.00773961003869772, -0.015454273670911789, 0.026418201625347137, -0.00015952030662447214, 0.02125430293381214, -0.002870391122996807, -0.0034176521003246307, -0.02666766382753849, 0.003770019393414259, -0.002407324267551303, -0.00496432650834322, 8.721483027329668e-05, -0.01980741322040558, 0.0041753980331122875, -0.0030886719468981028, -0.009336177259683609, 0.005297984462231398, -0.024010876193642616, -0.021765703335404396, -0.010128224268555641, 0.0442797988653183, -0.008369505405426025, -0.007047348190099001, -8.258611342171207e-05, -0.005628523882478476, -0.024210447445511818, -0.014568677172064781, 3.315625144750811e-05, 0.0220525860786438, -0.0005511587369255722, -0.005391533020883799, 0.019408272579312325, 0.02018160931766033, 0.006592077203094959, -0.0012956518912687898, -0.008724991232156754, -0.005606695543974638, -0.020618170499801636, -0.019433218985795975, -0.008793593384325504, 0.017200518399477005, 0.015878360718488693, -0.02004440501332283, 0.015953199937939644, -0.03527415916323662, 0.02771541103720665, -0.02119193784892559, -0.014892980456352234, 0.014144589193165302, -0.007140897214412689, -0.03906600922346115, 0.03557351604104042, 0.04131118208169937, 0.02013171650469303, 0.0005601238808594644, -0.007409070618450642, 0.006598313804715872, -0.025183355435729027, 0.009155316278338432, -0.014169535599648952, -0.03016015514731407, 0.034924913197755814, -8.692248957231641e-05, 0.0024977547582238913, 0.005968417972326279, 0.00261313165538013, -0.019296012818813324, -0.005556802731007338, 0.00948585569858551, 0.03006036952137947, 0.009423489682376385, -0.0223519429564476, 0.010988874360918999, -0.03527415916323662, 0.01105747651308775, -0.0036203411873430014, 0.0048863692209124565, 0.007034874986857176, -0.011038766242563725, -0.030534351244568825, -0.013096841983497143, -0.018310632556676865, -0.0052169086411595345, 0.004172279499471188, -0.023025495931506157, -0.002031569601967931, 0.0016885570948943496, 0.0069974553771317005, -0.004109913483262062, 0.019133862107992172, 0.023549368605017662, -0.005871750880032778, -0.02681734226644039, 0.009778975509107113, -0.013608242385089397, 0.005126478150486946, -0.024759268388152122, 0.03100833296775818, 4.9405498430132866e-05, -2.311923890374601e-05, 0.0008824776741676033, -0.01499276515096426, 0.021491292864084244, -0.02571970224380493, -0.016913635656237602, -0.0033802324905991554, 0.009167789481580257, 0.018647408112883568, -0.0054476624354720116, -0.00778326578438282, 0.015965674072504044, 0.017549768090248108, 0.030459512025117874, 0.00044474692549556494, -0.007795738987624645, -0.010234246030449867, -0.025021204724907875, -0.00180237484164536, 0.020730430260300636, -0.00044474692549556494, -0.007009928580373526, 0.04023848846554756, -0.005718954373151064, -0.014306740835309029, -0.014369106851518154, -0.007103477604687214, 0.0017119443509727716, -0.015117497183382511, -0.01643965393304825, 0.029386818408966064, 0.012017911300063133, 0.008575312793254852, -0.016052985563874245, -0.014069749973714352, 0.0026193682570010424, -0.020568277686834335, 0.005425834562629461, 0.019158808514475822, -0.02452227659523487, -0.01660180650651455, -0.012030384503304958, -0.154767245054245, 0.017200518399477005, 0.029810907319188118, -0.009666716679930687, 0.030733922496438026, 0.003043456468731165, 0.009991019032895565, -0.005959062837064266, -0.012785011902451515, 0.0007480011554434896, -0.022002695128321648, -0.007421543821692467, -0.013209100812673569, -0.028214339166879654, 0.007758319843560457, -0.0053946515545248985, -0.027041859924793243, 0.03911590203642845, 0.022588932886719704, -0.0053790598176419735, 0.012242428958415985, 0.016901163384318352, 0.01282243151217699, -0.0440552793443203, 0.02204011380672455, 0.015554058365523815, -0.01685127057135105, -0.008606496267020702, -0.018397944048047066, 0.007826922461390495, -0.02434765174984932, -0.002175011206418276, 0.006592077203094959, -0.020231502130627632, 0.03415157273411751, -0.017986329272389412, -0.003938407637178898, -0.01493040006607771, -0.014855560846626759, 0.018410418182611465, 0.010783066041767597, 0.03624706715345383, -0.013383724726736546, 0.029686175286769867, 5.413166218204424e-05, 0.017138153314590454, 0.02432270534336567, 0.015154916793107986, -0.0021422691643238068, -0.006454871967434883, -0.01439405232667923, -0.022601407021284103, 0.02436012588441372, 0.018510203808546066, 0.016127824783325195, -0.009679189883172512, 0.008463054895401001, -0.013383724726736546, -0.003988299984484911, -0.0165643859654665, -0.022850871086120605, -0.02561991661787033, 0.013096841983497143, -0.009585641324520111, -0.0016760838916525245, -0.013483510352671146, 0.0001243420410901308, -0.005768847186118364, -0.024173028767108917, 0.01499276515096426, 0.013795340433716774, -0.030459512025117874, 0.013134261593222618, -0.02332485094666481, 0.006610787007957697, -0.0010578818619251251, -0.0441800132393837, 0.005681534763425589, -0.01277253869920969, -0.007203262764960527, -0.02881305105984211, 0.03781868889927864, -0.010290375910699368, -0.0165768601000309, -0.016951054334640503, -0.0223145242780447, 0.00936112366616726, 0.0005039945244789124, 0.01562889851629734, -0.014007383957505226, 0.023574315011501312, -0.04248366132378578, -0.013558349572122097, -0.020593224093317986, 0.010302849113941193, -0.0064486353658139706, 0.01060220506042242, 0.018360525369644165, -0.012498129159212112, -0.013171681202948093, 0.019171282649040222, -0.001078930334188044, 0.003311630105599761, -0.007197026163339615, 0.026443148031830788, 0.0002430321619613096, 0.014780721627175808, 0.00828843005001545, 0.0277403574436903, 0.01892181858420372, -0.014082223176956177, 0.019308486953377724, 0.01900913007557392, 0.018323104828596115, -0.004265828523784876, 0.000230948775424622, 0.015429327264428139, -0.033852219581604004, 0.031582098454236984, 0.0004572200996335596, 0.05772588774561882, -0.014356633648276329, -0.03105822391808033, 0.006392505951225758, -0.008949508890509605, 0.002867272822186351, -0.0780821219086647, -0.021640971302986145, 0.009186498820781708, 0.007315521594136953, 0.02764057368040085, 0.026044005528092384, -0.021665917709469795, 0.010315322317183018, -0.01903407648205757, 0.04088709130883217, -0.025944219902157784, -0.011712318286299706, -6.548420788021758e-05, 0.0001259986311197281, 0.037394601851701736, -0.01571621000766754, 0.006383151281625032, 9.734929335536435e-05, -0.05982138216495514, 0.023898618295788765, -0.005101531744003296, 0.0024993140250444412, 0.0015147121157497168, 0.010097041726112366, 0.017300304025411606, 0.020805269479751587, -0.027066806331276894, 0.030659083276987076, 0.0164646003395319, 0.00441862503066659, 0.00446851784363389, -0.001825762097723782, -0.002594422083348036, -0.002992004621773958, 0.007627351209521294, 0.009604350663721561, 0.009916179813444614, 0.004546475131064653, 0.010440054349601269, -0.009729082696139812, 0.011456618085503578, 0.011338123120367527, 0.029810907319188118, -0.040612682700157166, 0.025769595056772232, -0.02021902985870838, -0.02549518458545208, 0.007577458396553993, 0.010209299623966217, -0.004396796692162752, -0.02459711581468582, 0.013820286840200424, -0.005662824958562851, -0.022002695128321648, 0.031831562519073486, -0.01789901778101921, 0.01339619792997837, 0.013658135198056698, -0.033777378499507904, 0.0220525860786438, 0.0005316694150678813, -0.027066806331276894, 0.005569275934249163, -0.003947762306779623, -0.021703338250517845, -0.004655615426599979, 0.0010867260862141848, -0.002022214699536562, 0.01799880340695381, -0.030559297651052475, 0.00582497613504529, 0.023524422198534012, 0.006071321666240692, 0.015603951178491116, -0.00146326026879251, -0.009766502305865288, -0.026193683966994286, 0.0023995283991098404, 0.025195829570293427, -0.00990370661020279, -0.00725939217954874, -0.004661852028220892, -0.014880507253110409, -0.007246918976306915, 0.04101182520389557, 0.01556653156876564, -0.002067429944872856, 0.014132115989923477, 0.029386818408966064, -0.006242827977985144, 0.003682707203552127, 0.028314124792814255, 0.024185501039028168, -0.010190590284764767, 0.011038766242563725, 0.00036873845965601504, 0.02003193087875843, -0.004512174054980278, -0.01797385700047016, -0.004094322212040424, -0.007652297616004944, -0.00692261615768075, -0.0782816931605339, 0.022888289764523506, -0.007078531198203564, 0.013071895577013493, 0.03921568766236305, 0.020418599247932434, 0.03679588809609413, -0.003504964290186763, -0.0223020501434803, -0.009342413395643234, -0.024060769006609917, 0.020493438467383385, 0.02654293179512024, -0.007914233952760696, -0.01989472657442093, 0.00045020392281003296, 0.02204011380672455, 0.03110811673104763, 0.0016246320446953177, 0.006629496812820435, 0.012479418888688087, 0.000987720093689859, 0.019582897424697876, -0.02460958994925022, 0.030584244057536125, -0.013620715588331223, -0.015242229215800762, 0.0005254328134469688, -0.04123634099960327, -0.021304195746779442, 0.00040732737397775054, -0.025233248248696327, 0.025170883163809776, 0.019433218985795975, 0.01110113225877285, -0.005990245845168829, 0.008207353763282299, 0.0084069250151515, 0.001793020055629313, 0.008294666185975075, 0.010932744480669498, -0.029336925595998764, 0.02122935652732849, -0.008662625215947628, -0.007995310239493847, 0.015292122028768063, 0.0018850096967071295, 0.0138452323153615, 0.02664271742105484, -0.006872723810374737, 0.006336377002298832, 0.023985929787158966, -0.02873821370303631, 0.0005012660403735936, 0.006015192251652479, -0.011281994171440601, -0.023736465722322464, -0.03634685277938843, -0.005734545644372702, 0.011338123120367527, 0.059472136199474335, 0.013807813636958599, 0.013471037149429321, 0.011319412849843502, -0.024023350328207016, -0.014593623578548431, 0.009847577661275864, 0.01991967298090458, 0.011431671679019928, -0.009086713194847107, -0.02122935652732849, -0.02315022610127926, 0.0045433565974235535, 0.012622861191630363, 0.014231901615858078, -0.006037020590156317, 0.013982437551021576, 0.019233647733926773, -0.003320984775200486, 0.01778675802052021, 0.0278401430696249, -0.006429925560951233, -0.020231502130627632, 0.013545876368880272, 0.029736068099737167, 0.008581549860537052, -0.017113206908106804, 0.014593623578548431, -0.004717981442809105, 0.021965274587273598, 0.0006782293203286827, 0.015853414312005043, -0.04108666256070137, 0.01329641230404377, 0.006046375259757042, 0.017275357618927956, -0.02986080013215542, -0.0018818913958966732, 0.019458165392279625, 0.01762460730969906, -0.00019294454250484705, 0.019707629457116127, -0.010895324870944023, -0.019283540546894073, -0.029711121693253517, -0.003048134036362171, -0.014094696380198002, -0.011824577115476131, -0.017350196838378906, -0.011444144882261753, 0.015579004772007465, 0.02105473168194294, -0.026991967111825943, 0.010383924469351768, -0.024185501039028168, -0.0013135820627212524, 0.03871675953269005, 0.0026552288327366114, -0.027041859924793243, 0.021541185677051544, 0.019420744851231575, 0.027416056022047997, 0.01868482679128647, 0.006467345170676708, -0.0043936786241829395, 0.0064361621625721455, -0.002549206605181098, -0.005432071164250374, -0.009286284446716309, 0.012123933993279934, -0.0024603353813290596, -0.05213790386915207, -0.0024930774234235287, 7.62033523642458e-05, -0.011450381949543953, -0.004920670762658119, 0.012123933993279934, 0.014680936001241207, 0.00036425591679289937, 0.04882003739476204, 0.007608641404658556, 0.0011529898038133979, 0.022015167400240898, -0.014531257562339306, 0.030858654528856277, 0.014880507253110409, -0.0028532405849546194, 0.0006805680459365249, 0.0027207129169255495, 0.018522676080465317, -0.0053416406735777855, -0.01875966601073742, -0.020892580971121788, -0.007795738987624645, 0.004477872513234615, 0.0038012024015188217, 0.00391969783231616, -0.014306740835309029, 0.010988874360918999, -0.0008458376978524029, -0.0007405952201224864, 0.0335778072476387, -0.013820286840200424, -0.01663922518491745, -0.024247867986559868, -0.0024447438772767782, -0.00893703568726778, -0.014730828814208508, -0.005297984462231398, -0.010820485651493073, -0.0028516813181340694, -0.03736965358257294, -0.0005807825946249068, 0.021354088559746742, -0.02341216430068016, -0.0067230453714728355, -0.0279399286955595, 0.01284737791866064, -0.009261338040232658, -0.028139499947428703, -0.009704136289656162, -0.011637479066848755, -0.014668462797999382, 0.020892580971121788, 0.009785211645066738, -0.028264231979846954, 0.003243027487769723, -0.009074239991605282], metadata={'text': 'Bill Evans\\nWilliam John Evans (August 16, 1929 – September 15, 1980)\\nwas an American jazz pianist and composer who worked primarily\\nas the leader of his trio.[2] His interpretations of traditional jazz\\nrepertoire, his ways of using impressionist harmony and block\\nchords, and his trademark rhythmically independent, \"singing\"\\nmelodic lines, continue to influence jazz pianists today.\\n\\nBill Evans'})\n",
            "{'text': 'Bill Evans\\nWilliam John Evans (August 16, 1929 – September 15, 1980)\\nwas an American jazz pianist and composer who worked primarily\\nas the leader of his trio.[2] His interpretations of traditional jazz\\nrepertoire, his ways of using impressionist harmony and block\\nchords, and his trademark rhythmically independent, \"singing\"\\nmelodic lines, continue to influence jazz pianists today.\\n\\nBill Evans'}\n"
          ]
        }
      ],
      "source": [
        "print(vectors[0])\n",
        "print(vectors[0].metadata)"
      ]
    },
    {
      "cell_type": "markdown",
      "metadata": {
        "id": "KpFDtpbuNuH6"
      },
      "source": [
        "Upsert all of the vectors to the index at once. Upstash supports for 1000 vectors per request for free indexes."
      ]
    },
    {
      "cell_type": "code",
      "execution_count": null,
      "metadata": {
        "id": "BrC2hvhlNuH6",
        "outputId": "89183e06-f49d-4160-bb58-4f7f25b5379f"
      },
      "outputs": [
        {
          "data": {
            "text/plain": [
              "'Success'"
            ]
          },
          "execution_count": 106,
          "metadata": {},
          "output_type": "execute_result"
        }
      ],
      "source": [
        "from upstash_vector import Index\n",
        "\n",
        "index = Index(\n",
        "    url=UPSTASH_VECTOR_REST_URL,\n",
        "    token=UPSTASH_VECTOR_REST_TOKEN\n",
        ")\n",
        "\n",
        "# If you want to reset your index beforehand uncomment this\n",
        "# index.reset()\n",
        "\n",
        "index.upsert(vectors)"
      ]
    },
    {
      "cell_type": "markdown",
      "source": [
        "## Query and run the prompt\n",
        "\n",
        "\n"
      ],
      "metadata": {
        "id": "0R6qsCP2baLx"
      }
    },
    {
      "cell_type": "markdown",
      "metadata": {
        "id": "uixmluY7NuH6"
      },
      "source": [
        "The first part is complete, now we query for the embedding of any text and it gives us relevant chunks of context we can use."
      ]
    },
    {
      "cell_type": "code",
      "execution_count": null,
      "metadata": {
        "id": "VMWMnP_kNuH6",
        "outputId": "2820fcfd-143b-464a-c1d6-e9e3f13c849f"
      },
      "outputs": [
        {
          "data": {
            "text/plain": [
              "['Helen\" and \"Song for Helen\", for manager Helen Keane; \"B minor Waltz (For Ellaine)\", for girlfriend',\n",
              " 'pianists Jean-Yves Thibaudet and Denis Matsuev, and many other musicians in jazz and other music\\ngenres.[81]\\nMany of his tunes, such as \"Waltz for Debby\", \"Turn Out the Stars\", \"Very Early\", and \"Funkallero\", have\\nbecome often-recorded jazz standards.\\nDuring his lifetime, Evans was honored with 31 Grammy nominations and seven Awards.[53] In 1994, he\\nwas posthumously honored with the Grammy Lifetime Achievement Award.\\nThe Bill Evans Jazz Festival at Southeastern Louisiana University began in 2002.[82] A Bill Evans painting',\n",
              " 'List of compositions\\nEvans\\'s repertoire consisted of both jazz standards and original compositions. Many of these were dedicated\\nto people close to him. Some known examples are: \"Waltz for Debby\", for his niece; \"For Nenette\", for his\\nwife; \"Letter to Evan\", for his son; \"NYC\\'s No Lark\", an anagram of Sonny Clark in memory of his friend\\nthe pianist; \"Re: Person I Knew\", another anagram, of the name of his friend and producer Orrin\\nKeepnews; \"We Will Meet Again\", for his brother; \"Peri\\'s Scope\", for girlfriend Peri Cousins; \"One for',\n",
              " 'Ellaine Schultz; \"Laurie\", for girlfriend Laurie Verchomin; \"Yet Ne\\'er Broken\", an anagram of the name of\\ncocaine dealer Robert Kenney; \"Maxine\", for his stepdaughter; \"Tiffany\", for Joe LaBarbera\\'s daughter;\\n\"Knit For Mary F.\" for fan Mary Franksen from Omaha.[86]',\n",
              " 'recording, for his solo on a tune named \"Walkin\\'\", Evans received\\nnoticeably less applause than the other soloists, and for that on \"All\\nOf You\", none at all. Davis and the other band members would\\nrespond \"he\\'s supposed to be there, Miles wants him there\" on the\\nbandstand whenever audience members made comments.[9] Davis\\nnoted in his autobiography that Evans was sensitive to the criticism\\nand let it get to him. This might have been a contributing factor to\\nEvans leaving the band after just seven months.\\nWhen Ken Burns\\' television miniseries Jazz was released in 2001, it']"
            ]
          },
          "execution_count": 108,
          "metadata": {},
          "output_type": "execute_result"
        }
      ],
      "source": [
        "# Now we can search for similar vectors\n",
        "\n",
        "embedding = get_embedding(\"waltz for debby\")\n",
        "\n",
        "# Search for similar vectors\n",
        "res = index.query(vector=embedding, top_k=5, include_metadata=True)\n",
        "[r.metadata['text'] for r in res]"
      ]
    },
    {
      "cell_type": "markdown",
      "metadata": {
        "id": "RC0hun9tNuH6"
      },
      "source": [
        "Here is a utiliy function for asking questions. Note that the prompt is a combination of question and context."
      ]
    },
    {
      "cell_type": "code",
      "execution_count": null,
      "metadata": {
        "id": "HwB1PqExNuH6"
      },
      "outputs": [],
      "source": [
        "def ask_question(question):\n",
        "    # Get the embedding for the question\n",
        "    question_embedding = get_embedding(question)\n",
        "\n",
        "    # Search for similar vectors\n",
        "    res = index.query(vector=question_embedding, top_k=5, include_metadata=True)\n",
        "\n",
        "    # Collect the results in a context\n",
        "    context = \"\\n\".join([r.metadata['text'] for r in res])\n",
        "\n",
        "    prompt = f\"Question:{question}\\n\\nContext: {context}\"\n",
        "\n",
        "    response = openai.chat.completions.create(\n",
        "                model=\"gpt-3.5-turbo\",\n",
        "                messages=[{\"role\": \"system\", \"content\": 'You are a helpfull search assistant. You answer the question given only using the context. If you do not know the answer, you can say \"I do not know\" and the user will be notified.'},\n",
        "                            {\"role\": \"user\", \"content\": prompt}\n",
        "                ])\n",
        "\n",
        "    text = response.choices[0].message.content\n",
        "\n",
        "    print(\"Response: \", text)\n",
        "    print(\"Context used in the prompt:\\n\" + context)"
      ]
    },
    {
      "cell_type": "markdown",
      "metadata": {
        "id": "mQeZd3HLNuH7"
      },
      "source": [
        "Ask you can see, the model uses information given in the context to answer the questions. The approach taken here can be improved significantly, this is just an example showcase of how upstash vector can be used. Hope you enjoyed this tutorial!"
      ]
    },
    {
      "cell_type": "code",
      "execution_count": null,
      "metadata": {
        "id": "knr7y2XVNuH7",
        "outputId": "15de2cbf-d742-4a5d-b56f-78a2440206e5"
      },
      "outputs": [
        {
          "name": "stdout",
          "output_type": "stream",
          "text": [
            "Response:  Debby is Bill Evans' niece. \"Waltz for Debby\" is a composition dedicated to her.\n",
            "Context used in the prompt:\n",
            "List of compositions\n",
            "Evans's repertoire consisted of both jazz standards and original compositions. Many of these were dedicated\n",
            "to people close to him. Some known examples are: \"Waltz for Debby\", for his niece; \"For Nenette\", for his\n",
            "wife; \"Letter to Evan\", for his son; \"NYC's No Lark\", an anagram of Sonny Clark in memory of his friend\n",
            "the pianist; \"Re: Person I Knew\", another anagram, of the name of his friend and producer Orrin\n",
            "Keepnews; \"We Will Meet Again\", for his brother; \"Peri's Scope\", for girlfriend Peri Cousins; \"One for\n",
            "Helen\" and \"Song for Helen\", for manager Helen Keane; \"B minor Waltz (For Ellaine)\", for girlfriend\n",
            "\n",
            "Ellaine Schultz; \"Laurie\", for girlfriend Laurie Verchomin; \"Yet Ne'er Broken\", an anagram of the name of\n",
            "cocaine dealer Robert Kenney; \"Maxine\", for his stepdaughter; \"Tiffany\", for Joe LaBarbera's daughter;\n",
            "\"Knit For Mary F.\" for fan Mary Franksen from Omaha.[86]\n",
            "Legacy and influence\n",
            "Evans has left his mark on such players as Herbie Hancock, Chick Corea, Paul Bley, Keith Jarrett, Steve\n",
            "Kuhn, Warren Bernhardt, Michel Petrucciani, John Taylor, Vince Guaraldi, Stefano Bollani, Don Friedman,\n",
            "Marian McPartland, Denny Zeitlin, Bobo Stenson, Fred Hersch, Bill Charlap, Lyle Mays, Eliane Elias,\n",
            "Diana Krall, Ralph Towner, John McLaughlin, Lenny Breau, and Rick Wright of Pink Floyd, classical\n",
            "pianists Jean-Yves Thibaudet and Denis Matsuev, and many other musicians in jazz and other music\n",
            "genres.[81]\n",
            "Many of his tunes, such as \"Waltz for Debby\", \"Turn Out the Stars\", \"Very Early\", and \"Funkallero\", have\n",
            "become often-recorded jazz standards.\n",
            "During his lifetime, Evans was honored with 31 Grammy nominations and seven Awards.[53] In 1994, he\n",
            "was posthumously honored with the Grammy Lifetime Achievement Award.\n",
            "The Bill Evans Jazz Festival at Southeastern Louisiana University began in 2002.[82] A Bill Evans painting\n",
            "hangs in the Recital Hall lobby of the Department of Music and Performing Arts. The Center for\n",
            "Southeastern Louisiana Studies at the Simms Library holds the Bill Evans archives.[83] He was named\n",
            "Outstanding Alumnus of the year in 1969 at Southeastern Louisiana University.[84]\n",
            "Evans influenced the character Seb's wardrobe in the film La La Land.[85]\n",
            "1981, Pat Metheny and Lyle Mays released the piece \"September Fifteenth (dedicated to Bill Evans)\" on\n",
            "their album As Falls Wichita, So Falls Wichita Falls.\n",
            "this technique, he created an effect of continuity in the central\n",
            "register of the piano. Lying around middle C, in this region the\n",
            "harmonic clusters sounded the clearest, and at the same time, left\n",
            "room for contrapuntal independence with the bass.[9]\n",
            "Evans's improvisations relied heavily on motivic development,\n",
            "either melodically or rhythmically.[65] Motives may be broken and\n",
            "recombined to form melodies.[69] Another characteristic of Evans's\n",
            "style is rhythmic displacement.[9][70] His melodic contours often\n",
            "describe arches.[71] Other characteristics include sequenciation of\n",
            "melodies and transforming one motive into another.[71] He plays\n",
            "with one hand in the time signature of 4/4 and the other\n",
            "momentarily in 3/4.[72]\n",
            "\n",
            "An example of Evans's harmonies.\n",
            "The chords feature extensions like\n",
            "9ths and 13ths, are laid around\n",
            "middle C, have smooth voice\n",
            "leading, and leave the root to the\n",
            "bassist. Bridge of the first chorus of\n",
            "\"Waltz for Debby\" (mm.33–36). From\n",
            "the 1961 album of the same name.\n",
            "At the beginning of his career, Evans used block chords heavily. He\n",
            "later abandoned them in part.[73] During a 1978 interview, Marian\n",
            "McPartland asked:\n",
            "\"How do you think your playing has changed since you first started? Is it deliberate or is it\n",
            "just happening to change?\"\n",
            "Bill Evans: \"Well it's deliberate, ahh but I stay along the same lines ... I try to get a little\n",
            "deeper into what I'm doing. As far as that kind of playing goes, [jazz playing rather than an\n",
            "earlier example where he played Waltz for Debbie without any improvisation or sense of\n",
            "swing], I think my left hand is a little more competent and uhh ... of course I worked a lot on\n",
            "inner things happening like inner voices I've worked on.\"[74][75]\n",
            "\n",
            "The first line of \"Time Remembered\", as penned by Evans in the early 1970s.\n",
            "\n",
            "At least during his late years, Evans's favorite keys to play in were A and E.[15] Evans greatly valued\n",
            "Bach's music, which influenced his playing style and which helped him gain good touch and finger\n",
            "independence. \"Bach changed my hand approach to playing the piano. I used to use a lot of finger\n",
            "technique when I was younger, and I changed over to a weight technique. Actually, if you play Bach and\n",
            "the voices sing at all, and sustain the way they should, you really can't play it with the wrong approach.\"\n",
            "Evans valued Bach's \"The Well-Tempered Clavier\" and his \"Two- and Three-Part Inventions\" as excellent\n",
            "practice material.[30]\n",
            "\n",
            "Influences\n",
            "In an interview given in 1964, Evans described Bud Powell as his single greatest influence.[76]\n"
          ]
        }
      ],
      "source": [
        "ask_question(\"Who is debby in the album waltz for debby?\")"
      ]
    },
    {
      "cell_type": "code",
      "execution_count": null,
      "metadata": {
        "id": "L0tAAq3bNuH7",
        "outputId": "70485ccc-6c5b-4702-b426-be0d2510bebd"
      },
      "outputs": [
        {
          "name": "stdout",
          "output_type": "stream",
          "text": [
            "Response:  Bill Evans studied at Southeastern Louisiana University.\n",
            "Context used in the prompt:\n",
            "hangs in the Recital Hall lobby of the Department of Music and Performing Arts. The Center for\n",
            "Southeastern Louisiana Studies at the Simms Library holds the Bill Evans archives.[83] He was named\n",
            "Outstanding Alumnus of the year in 1969 at Southeastern Louisiana University.[84]\n",
            "Evans influenced the character Seb's wardrobe in the film La La Land.[85]\n",
            "Reception\n",
            "Music critic Richard S. Ginell wrote: \"With the passage of time, Bill Evans has become an entire school\n",
            "unto himself for pianists and a singular mood unto himself for listeners. There is no more influential jazzoriented pianist—only McCoy Tyner exerts nearly as much pull among younger players and\n",
            "journeymen.\"[80]\n",
            "During his short tenure with Davis in 1958, when the band left New York to go on the road, Evans\n",
            "sometimes received cold receptions from the mostly black audiences. Evans later acknowledged that some\n",
            "felt his presence threatened the black pride aspect of the famed Davis band's success. Pettinger believed in a\n",
            "pianists Jean-Yves Thibaudet and Denis Matsuev, and many other musicians in jazz and other music\n",
            "genres.[81]\n",
            "Many of his tunes, such as \"Waltz for Debby\", \"Turn Out the Stars\", \"Very Early\", and \"Funkallero\", have\n",
            "become often-recorded jazz standards.\n",
            "During his lifetime, Evans was honored with 31 Grammy nominations and seven Awards.[53] In 1994, he\n",
            "was posthumously honored with the Grammy Lifetime Achievement Award.\n",
            "The Bill Evans Jazz Festival at Southeastern Louisiana University began in 2002.[82] A Bill Evans painting\n",
            "Legacy and influence\n",
            "Evans has left his mark on such players as Herbie Hancock, Chick Corea, Paul Bley, Keith Jarrett, Steve\n",
            "Kuhn, Warren Bernhardt, Michel Petrucciani, John Taylor, Vince Guaraldi, Stefano Bollani, Don Friedman,\n",
            "Marian McPartland, Denny Zeitlin, Bobo Stenson, Fred Hersch, Bill Charlap, Lyle Mays, Eliane Elias,\n",
            "Diana Krall, Ralph Towner, John McLaughlin, Lenny Breau, and Rick Wright of Pink Floyd, classical\n",
            "List of compositions\n",
            "Evans's repertoire consisted of both jazz standards and original compositions. Many of these were dedicated\n",
            "to people close to him. Some known examples are: \"Waltz for Debby\", for his niece; \"For Nenette\", for his\n",
            "wife; \"Letter to Evan\", for his son; \"NYC's No Lark\", an anagram of Sonny Clark in memory of his friend\n",
            "the pianist; \"Re: Person I Knew\", another anagram, of the name of his friend and producer Orrin\n",
            "Keepnews; \"We Will Meet Again\", for his brother; \"Peri's Scope\", for girlfriend Peri Cousins; \"One for\n"
          ]
        }
      ],
      "source": [
        "ask_question(\"Which school did Bill Evans study in?\")"
      ]
    },
    {
      "cell_type": "markdown",
      "source": [
        "## Outro\n",
        "\n",
        "In this example, we have demonstrated how to implement RAG based chatbot using Upstash Vector and OpenAI API. Checkout [our examples](https://drive.google.com/drive/folders/1_W7MgkKGJmbfVQ_QiW_6qcfq0JZYFnhw?usp=sharing) for more ai notebooks and [follow us on X](https://twitter.com/upstash) for product updates."
      ],
      "metadata": {
        "id": "1fBRqATjbx8t"
      }
    }
  ],
  "metadata": {
    "kernelspec": {
      "display_name": "ai",
      "language": "python",
      "name": "python3"
    },
    "language_info": {
      "codemirror_mode": {
        "name": "ipython",
        "version": 3
      },
      "file_extension": ".py",
      "mimetype": "text/x-python",
      "name": "python",
      "nbconvert_exporter": "python",
      "pygments_lexer": "ipython3",
      "version": "3.11.4"
    },
    "colab": {
      "provenance": [],
      "include_colab_link": true
    }
  },
  "nbformat": 4,
  "nbformat_minor": 0
}